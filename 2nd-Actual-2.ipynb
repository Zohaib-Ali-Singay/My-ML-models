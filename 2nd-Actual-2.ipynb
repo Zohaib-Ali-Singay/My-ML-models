{
 "cells": [
  {
   "cell_type": "code",
   "execution_count": 1,
   "id": "a83e0d13",
   "metadata": {},
   "outputs": [],
   "source": [
    "import pandas as pd\n",
    "from sklearn.datasets import *\n",
    "from sklearn.tree import DecisionTreeClassifier, DecisionTreeRegressor\n",
    "from IPython.display import Image, display_svg, SVG\n",
    "import matplotlib.pyplot as plt\n",
    "from sklearn.tree import plot_tree\n",
    "import numpy as np\n",
    "import warnings\n",
    "warnings.filterwarnings('ignore')\n",
    "%matplotlib inline"
   ]
  },
  {
   "cell_type": "code",
   "execution_count": 2,
   "id": "e90f046e",
   "metadata": {},
   "outputs": [],
   "source": [
    "import numpy as np\n",
    "import matplotlib as plt\n",
    "import seaborn as sns\n",
    "import matplotlib.pyplot as plt"
   ]
  },
  {
   "cell_type": "code",
   "execution_count": 3,
   "id": "367a4ae9",
   "metadata": {},
   "outputs": [
    {
     "data": {
      "text/html": [
       "<div>\n",
       "<style scoped>\n",
       "    .dataframe tbody tr th:only-of-type {\n",
       "        vertical-align: middle;\n",
       "    }\n",
       "\n",
       "    .dataframe tbody tr th {\n",
       "        vertical-align: top;\n",
       "    }\n",
       "\n",
       "    .dataframe thead th {\n",
       "        text-align: right;\n",
       "    }\n",
       "</style>\n",
       "<table border=\"1\" class=\"dataframe\">\n",
       "  <thead>\n",
       "    <tr style=\"text-align: right;\">\n",
       "      <th></th>\n",
       "      <th>vhigh</th>\n",
       "      <th>vhigh.1</th>\n",
       "      <th>2</th>\n",
       "      <th>2.1</th>\n",
       "      <th>small</th>\n",
       "      <th>med</th>\n",
       "      <th>unacc</th>\n",
       "    </tr>\n",
       "  </thead>\n",
       "  <tbody>\n",
       "    <tr>\n",
       "      <th>0</th>\n",
       "      <td>vhigh</td>\n",
       "      <td>vhigh</td>\n",
       "      <td>2</td>\n",
       "      <td>2</td>\n",
       "      <td>small</td>\n",
       "      <td>high</td>\n",
       "      <td>unacc</td>\n",
       "    </tr>\n",
       "    <tr>\n",
       "      <th>1</th>\n",
       "      <td>vhigh</td>\n",
       "      <td>vhigh</td>\n",
       "      <td>2</td>\n",
       "      <td>2</td>\n",
       "      <td>med</td>\n",
       "      <td>low</td>\n",
       "      <td>unacc</td>\n",
       "    </tr>\n",
       "    <tr>\n",
       "      <th>2</th>\n",
       "      <td>vhigh</td>\n",
       "      <td>vhigh</td>\n",
       "      <td>2</td>\n",
       "      <td>2</td>\n",
       "      <td>med</td>\n",
       "      <td>med</td>\n",
       "      <td>unacc</td>\n",
       "    </tr>\n",
       "    <tr>\n",
       "      <th>3</th>\n",
       "      <td>vhigh</td>\n",
       "      <td>vhigh</td>\n",
       "      <td>2</td>\n",
       "      <td>2</td>\n",
       "      <td>med</td>\n",
       "      <td>high</td>\n",
       "      <td>unacc</td>\n",
       "    </tr>\n",
       "    <tr>\n",
       "      <th>4</th>\n",
       "      <td>vhigh</td>\n",
       "      <td>vhigh</td>\n",
       "      <td>2</td>\n",
       "      <td>2</td>\n",
       "      <td>big</td>\n",
       "      <td>low</td>\n",
       "      <td>unacc</td>\n",
       "    </tr>\n",
       "  </tbody>\n",
       "</table>\n",
       "</div>"
      ],
      "text/plain": [
       "   vhigh vhigh.1  2  2.1  small   med  unacc\n",
       "0  vhigh   vhigh  2    2  small  high  unacc\n",
       "1  vhigh   vhigh  2    2    med   low  unacc\n",
       "2  vhigh   vhigh  2    2    med   med  unacc\n",
       "3  vhigh   vhigh  2    2    med  high  unacc\n",
       "4  vhigh   vhigh  2    2    big   low  unacc"
      ]
     },
     "execution_count": 3,
     "metadata": {},
     "output_type": "execute_result"
    }
   ],
   "source": [
    "df = pd.read_csv(\"car_evaluation_with.csv\")\n",
    "df.head()"
   ]
  },
  {
   "cell_type": "code",
   "execution_count": 4,
   "id": "46fd6a18",
   "metadata": {},
   "outputs": [],
   "source": [
    "column_names = [\"buying\", \"maint\", \"doors\", \"persons\", \"lug_boot\", \"safety\", \"class\"]\n",
    "df.columns = column_names"
   ]
  },
  {
   "cell_type": "code",
   "execution_count": 5,
   "id": "a271d08f",
   "metadata": {},
   "outputs": [
    {
     "data": {
      "text/html": [
       "<div>\n",
       "<style scoped>\n",
       "    .dataframe tbody tr th:only-of-type {\n",
       "        vertical-align: middle;\n",
       "    }\n",
       "\n",
       "    .dataframe tbody tr th {\n",
       "        vertical-align: top;\n",
       "    }\n",
       "\n",
       "    .dataframe thead th {\n",
       "        text-align: right;\n",
       "    }\n",
       "</style>\n",
       "<table border=\"1\" class=\"dataframe\">\n",
       "  <thead>\n",
       "    <tr style=\"text-align: right;\">\n",
       "      <th></th>\n",
       "      <th>buying</th>\n",
       "      <th>maint</th>\n",
       "      <th>doors</th>\n",
       "      <th>persons</th>\n",
       "      <th>lug_boot</th>\n",
       "      <th>safety</th>\n",
       "      <th>class</th>\n",
       "    </tr>\n",
       "  </thead>\n",
       "  <tbody>\n",
       "    <tr>\n",
       "      <th>0</th>\n",
       "      <td>vhigh</td>\n",
       "      <td>vhigh</td>\n",
       "      <td>2</td>\n",
       "      <td>2</td>\n",
       "      <td>small</td>\n",
       "      <td>high</td>\n",
       "      <td>unacc</td>\n",
       "    </tr>\n",
       "    <tr>\n",
       "      <th>1</th>\n",
       "      <td>vhigh</td>\n",
       "      <td>vhigh</td>\n",
       "      <td>2</td>\n",
       "      <td>2</td>\n",
       "      <td>med</td>\n",
       "      <td>low</td>\n",
       "      <td>unacc</td>\n",
       "    </tr>\n",
       "    <tr>\n",
       "      <th>2</th>\n",
       "      <td>vhigh</td>\n",
       "      <td>vhigh</td>\n",
       "      <td>2</td>\n",
       "      <td>2</td>\n",
       "      <td>med</td>\n",
       "      <td>med</td>\n",
       "      <td>unacc</td>\n",
       "    </tr>\n",
       "    <tr>\n",
       "      <th>3</th>\n",
       "      <td>vhigh</td>\n",
       "      <td>vhigh</td>\n",
       "      <td>2</td>\n",
       "      <td>2</td>\n",
       "      <td>med</td>\n",
       "      <td>high</td>\n",
       "      <td>unacc</td>\n",
       "    </tr>\n",
       "    <tr>\n",
       "      <th>4</th>\n",
       "      <td>vhigh</td>\n",
       "      <td>vhigh</td>\n",
       "      <td>2</td>\n",
       "      <td>2</td>\n",
       "      <td>big</td>\n",
       "      <td>low</td>\n",
       "      <td>unacc</td>\n",
       "    </tr>\n",
       "  </tbody>\n",
       "</table>\n",
       "</div>"
      ],
      "text/plain": [
       "  buying  maint  doors  persons lug_boot safety  class\n",
       "0  vhigh  vhigh      2        2    small   high  unacc\n",
       "1  vhigh  vhigh      2        2      med    low  unacc\n",
       "2  vhigh  vhigh      2        2      med    med  unacc\n",
       "3  vhigh  vhigh      2        2      med   high  unacc\n",
       "4  vhigh  vhigh      2        2      big    low  unacc"
      ]
     },
     "execution_count": 5,
     "metadata": {},
     "output_type": "execute_result"
    }
   ],
   "source": [
    "df.head()"
   ]
  },
  {
   "cell_type": "code",
   "execution_count": 6,
   "id": "aae023c7",
   "metadata": {},
   "outputs": [
    {
     "data": {
      "text/plain": [
       "(1726, 7)"
      ]
     },
     "execution_count": 6,
     "metadata": {},
     "output_type": "execute_result"
    }
   ],
   "source": [
    "df.shape"
   ]
  },
  {
   "cell_type": "code",
   "execution_count": 7,
   "id": "eb572b89",
   "metadata": {},
   "outputs": [
    {
     "name": "stdout",
     "output_type": "stream",
     "text": [
      "<class 'pandas.core.frame.DataFrame'>\n",
      "RangeIndex: 1726 entries, 0 to 1725\n",
      "Data columns (total 7 columns):\n",
      " #   Column    Non-Null Count  Dtype \n",
      "---  ------    --------------  ----- \n",
      " 0   buying    1726 non-null   object\n",
      " 1   maint     1726 non-null   object\n",
      " 2   doors     1726 non-null   int64 \n",
      " 3   persons   1726 non-null   int64 \n",
      " 4   lug_boot  1726 non-null   object\n",
      " 5   safety    1726 non-null   object\n",
      " 6   class     1726 non-null   object\n",
      "dtypes: int64(2), object(5)\n",
      "memory usage: 94.5+ KB\n"
     ]
    }
   ],
   "source": [
    "df.info()"
   ]
  },
  {
   "cell_type": "code",
   "execution_count": 8,
   "id": "c78de393",
   "metadata": {},
   "outputs": [
    {
     "data": {
      "text/html": [
       "<div>\n",
       "<style scoped>\n",
       "    .dataframe tbody tr th:only-of-type {\n",
       "        vertical-align: middle;\n",
       "    }\n",
       "\n",
       "    .dataframe tbody tr th {\n",
       "        vertical-align: top;\n",
       "    }\n",
       "\n",
       "    .dataframe thead th {\n",
       "        text-align: right;\n",
       "    }\n",
       "</style>\n",
       "<table border=\"1\" class=\"dataframe\">\n",
       "  <thead>\n",
       "    <tr style=\"text-align: right;\">\n",
       "      <th></th>\n",
       "      <th>doors</th>\n",
       "      <th>persons</th>\n",
       "    </tr>\n",
       "  </thead>\n",
       "  <tbody>\n",
       "    <tr>\n",
       "      <th>count</th>\n",
       "      <td>1726.000000</td>\n",
       "      <td>1726.000000</td>\n",
       "    </tr>\n",
       "    <tr>\n",
       "      <th>mean</th>\n",
       "      <td>3.501738</td>\n",
       "      <td>3.668598</td>\n",
       "    </tr>\n",
       "    <tr>\n",
       "      <th>std</th>\n",
       "      <td>1.117838</td>\n",
       "      <td>1.247011</td>\n",
       "    </tr>\n",
       "    <tr>\n",
       "      <th>min</th>\n",
       "      <td>2.000000</td>\n",
       "      <td>2.000000</td>\n",
       "    </tr>\n",
       "    <tr>\n",
       "      <th>25%</th>\n",
       "      <td>3.000000</td>\n",
       "      <td>2.000000</td>\n",
       "    </tr>\n",
       "    <tr>\n",
       "      <th>50%</th>\n",
       "      <td>4.000000</td>\n",
       "      <td>4.000000</td>\n",
       "    </tr>\n",
       "    <tr>\n",
       "      <th>75%</th>\n",
       "      <td>4.750000</td>\n",
       "      <td>5.000000</td>\n",
       "    </tr>\n",
       "    <tr>\n",
       "      <th>max</th>\n",
       "      <td>5.000000</td>\n",
       "      <td>5.000000</td>\n",
       "    </tr>\n",
       "  </tbody>\n",
       "</table>\n",
       "</div>"
      ],
      "text/plain": [
       "             doors      persons\n",
       "count  1726.000000  1726.000000\n",
       "mean      3.501738     3.668598\n",
       "std       1.117838     1.247011\n",
       "min       2.000000     2.000000\n",
       "25%       3.000000     2.000000\n",
       "50%       4.000000     4.000000\n",
       "75%       4.750000     5.000000\n",
       "max       5.000000     5.000000"
      ]
     },
     "execution_count": 8,
     "metadata": {},
     "output_type": "execute_result"
    }
   ],
   "source": [
    "df.describe()"
   ]
  },
  {
   "cell_type": "code",
   "execution_count": 9,
   "id": "6e3ce811",
   "metadata": {},
   "outputs": [
    {
     "data": {
      "text/plain": [
       "array([2, 3, 4, 5], dtype=int64)"
      ]
     },
     "execution_count": 9,
     "metadata": {},
     "output_type": "execute_result"
    }
   ],
   "source": [
    "df[\"doors\"].unique()"
   ]
  },
  {
   "cell_type": "code",
   "execution_count": 10,
   "id": "c2280dc4",
   "metadata": {},
   "outputs": [
    {
     "data": {
      "text/plain": [
       "4"
      ]
     },
     "execution_count": 10,
     "metadata": {},
     "output_type": "execute_result"
    }
   ],
   "source": [
    "df[\"doors\"].nunique()"
   ]
  },
  {
   "cell_type": "code",
   "execution_count": 11,
   "id": "18f106a5",
   "metadata": {},
   "outputs": [
    {
     "data": {
      "text/plain": [
       "array([2, 3, 4, 5], dtype=int64)"
      ]
     },
     "execution_count": 11,
     "metadata": {},
     "output_type": "execute_result"
    }
   ],
   "source": [
    "#replacing 5more with 5\n",
    "df[\"doors\"]=df[\"doors\"].replace(\"5more\", 5)\n",
    "df[\"doors\"].unique()"
   ]
  },
  {
   "cell_type": "code",
   "execution_count": 12,
   "id": "f0680881",
   "metadata": {},
   "outputs": [],
   "source": [
    "#changing dtype to integer\n",
    "df[\"doors\"]=df[\"doors\"].astype(int)"
   ]
  },
  {
   "cell_type": "code",
   "execution_count": 13,
   "id": "a17b029c",
   "metadata": {},
   "outputs": [
    {
     "data": {
      "text/plain": [
       "array([2, 4, 5], dtype=int64)"
      ]
     },
     "execution_count": 13,
     "metadata": {},
     "output_type": "execute_result"
    }
   ],
   "source": [
    "df[\"persons\"].unique()"
   ]
  },
  {
   "cell_type": "code",
   "execution_count": 14,
   "id": "58a1a5d7",
   "metadata": {},
   "outputs": [],
   "source": [
    "#changing dtype to integer\n",
    "df[\"persons\"]=df[\"persons\"].astype(int)"
   ]
  },
  {
   "cell_type": "code",
   "execution_count": 15,
   "id": "02c215ca",
   "metadata": {},
   "outputs": [
    {
     "data": {
      "text/plain": [
       "buying      0\n",
       "maint       0\n",
       "doors       0\n",
       "persons     0\n",
       "lug_boot    0\n",
       "safety      0\n",
       "class       0\n",
       "dtype: int64"
      ]
     },
     "execution_count": 15,
     "metadata": {},
     "output_type": "execute_result"
    }
   ],
   "source": [
    "# Checking for null vales\n",
    "df.isnull().sum()"
   ]
  },
  {
   "cell_type": "markdown",
   "id": "b00cd517",
   "metadata": {},
   "source": []
  },
  {
   "cell_type": "markdown",
   "id": "8928247d",
   "metadata": {},
   "source": [
    "##### Exploratory Data Analysis\n",
    "  \n",
    "How is the the acceptance level distribution?"
   ]
  },
  {
   "cell_type": "code",
   "execution_count": 16,
   "id": "29a7e00b",
   "metadata": {},
   "outputs": [
    {
     "data": {
      "text/plain": [
       "class\n",
       "unacc    1208\n",
       "acc       384\n",
       "good       69\n",
       "vgood      65\n",
       "Name: count, dtype: int64"
      ]
     },
     "execution_count": 16,
     "metadata": {},
     "output_type": "execute_result"
    }
   ],
   "source": [
    "Class = df['class'].value_counts()\n",
    "Class"
   ]
  },
  {
   "cell_type": "code",
   "execution_count": 17,
   "id": "d68fb1d1",
   "metadata": {
    "scrolled": true
   },
   "outputs": [
    {
     "data": {
      "image/png": "[encoded data removed]",
      "text/plain": [
       "<Figure size 640x480 with 1 Axes>"
      ]
     },
     "metadata": {},
     "output_type": "display_data"
    }
   ],
   "source": [
    "# Create a pie chart\n",
    "plt.pie(x = Class.values, labels = Class.index, colors = [\"crimson\", \"yellow\", \"teal\", \"aqua\"], autopct = \"%1.1f%%\")\n",
    "plt.title(\"Class Ratio\")\n",
    "my_circle = plt.Circle((0, 0), 0.4, color = \"white\")\n",
    "p = plt.gcf()\n",
    "p.gca().add_artist(my_circle)\n",
    "plt.show()"
   ]
  },
  {
   "cell_type": "markdown",
   "id": "a4eb5ee1",
   "metadata": {},
   "source": [
    "The anacceptable class has a high distribution"
   ]
  },
  {
   "cell_type": "markdown",
   "id": "ae002c58",
   "metadata": {},
   "source": [
    "#### Class acceptance based on the number of doors"
   ]
  },
  {
   "cell_type": "code",
   "execution_count": 18,
   "id": "6db97f98",
   "metadata": {},
   "outputs": [
    {
     "data": {
      "text/plain": [
       "<Figure size 1000x800 with 0 Axes>"
      ]
     },
     "execution_count": 18,
     "metadata": {},
     "output_type": "execute_result"
    },
    {
     "data": {
      "text/plain": [
       "<Figure size 1000x800 with 0 Axes>"
      ]
     },
     "metadata": {},
     "output_type": "display_data"
    }
   ],
   "source": [
    "category_columns = \"class\"\n",
    "numerical_columns = \"doors\"\n",
    "plt.figure(figsize = (10, 8))"
   ]
  },
  {
   "cell_type": "code",
   "execution_count": 19,
   "id": "68773d6c",
   "metadata": {},
   "outputs": [
    {
     "data": {
      "image/png": "[encoded data removed]",
      "text/plain": [
       "<Figure size 640x480 with 1 Axes>"
      ]
     },
     "metadata": {},
     "output_type": "display_data"
    }
   ],
   "source": [
    "sns.boxplot(x = category_columns, y = numerical_columns, data = df, hue = \"class\", palette = [\"crimson\", \"aqua\",\n",
    "\"yellow\", \"teal\"])\n",
    "plt.title(\"Number of Doors by Class\")\n",
    "plt.xlabel(\"Class\")\n",
    "plt.ylabel(\"Number of Doors\")\n",
    "\n",
    "plt.show()"
   ]
  },
  {
   "cell_type": "markdown",
   "id": "63fd160f",
   "metadata": {},
   "source": [
    "The higher the number of doors the higher the level of acceptance"
   ]
  },
  {
   "cell_type": "code",
   "execution_count": null,
   "id": "f331e6fa",
   "metadata": {},
   "outputs": [],
   "source": []
  },
  {
   "cell_type": "code",
   "execution_count": null,
   "id": "19ad9769",
   "metadata": {},
   "outputs": [],
   "source": []
  },
  {
   "cell_type": "markdown",
   "id": "eb4fd4b2",
   "metadata": {},
   "source": [
    "When you pass both the `y` and `hue` arguments to `sns.boxplot`, the resulting plot will display separate boxplots for each unique category in the `hue` variable within each level of the `y` variable. \n",
    "\n",
    "Here's what happens:\n",
    "\n",
    "1. **Separate Boxplots:** \n",
    "   - The data is first grouped by the levels of the `y` variable. For each level of `y`, a separate boxplot is drawn.\n",
    "   - Within each boxplot, the data is further subdivided based on the unique categories in the `hue` variable.\n",
    "  \n",
    "2. **Coloring:**\n",
    "   - Each subgroup defined by the `hue` variable will have a different color or pattern within the boxplot, allowing for easy visual comparison.\n",
    "\n",
    "3. **Interpretation:**\n",
    "   - This setup allows you to simultaneously compare the distribution of the numeric variable across different levels of the `y` variable, as well as within each level of `y` across different categories represented by the `hue` variable.\n",
    "\n",
    "4. **Example:**\n",
    "   - For example, if you're visualizing exam scores (`y`) across different schools (`hue`) within different grade levels (`y`), each boxplot would represent the distribution of scores for a specific grade level, with different colors or patterns within each boxplot indicating different schools.\n",
    "\n",
    "In summary, using both `y` and `hue` in `sns.boxplot` allows for a multi-level comparison, where the distribution of the numeric variable (`y`) is examined across different categories represented by both `y` and `hue`."
   ]
  },
  {
   "cell_type": "code",
   "execution_count": null,
   "id": "e3d7fcc4",
   "metadata": {},
   "outputs": [],
   "source": []
  },
  {
   "cell_type": "markdown",
   "id": "5d2718fb",
   "metadata": {},
   "source": [
    "The acceptance class based on the number of persons"
   ]
  },
  {
   "cell_type": "code",
   "execution_count": 20,
   "id": "d5e1db45",
   "metadata": {},
   "outputs": [
    {
     "data": {
      "text/plain": [
       "Text(0.5, 1.0, 'Class by Number of Persons')"
      ]
     },
     "execution_count": 20,
     "metadata": {},
     "output_type": "execute_result"
    },
    {
     "data": {
      "image/png": "[encoded data removed]",
      "text/plain": [
       "<Figure size 800x500 with 1 Axes>"
      ]
     },
     "metadata": {},
     "output_type": "display_data"
    }
   ],
   "source": [
    "plt.figure(figsize = (8, 5))\n",
    "sns.countplot(x = \"persons\", hue = \"class\", data = df, palette = [\"crimson\", \"aqua\", \"yellow\", \"teal\"])\n",
    "plt.title(\"Class by Number of Persons\")"
   ]
  },
  {
   "cell_type": "markdown",
   "id": "7afb2ae8",
   "metadata": {},
   "source": [
    "1- A car with a capacity less than two persons is considered unacceptable  \n",
    "2- The higher the number of persons, the higher the acceptance class."
   ]
  },
  {
   "cell_type": "code",
   "execution_count": null,
   "id": "77c5bc2f",
   "metadata": {},
   "outputs": [],
   "source": []
  },
  {
   "cell_type": "markdown",
   "id": "6a7d2887",
   "metadata": {},
   "source": [
    "#### What is the number of persons based on the maintenance price"
   ]
  },
  {
   "cell_type": "code",
   "execution_count": 21,
   "id": "dd573598",
   "metadata": {},
   "outputs": [
    {
     "data": {
      "text/plain": [
       "Text(0, 0.5, 'Number of Persons')"
      ]
     },
     "execution_count": 21,
     "metadata": {},
     "output_type": "execute_result"
    },
    {
     "data": {
      "image/png": "[encoded data removed]",
      "text/plain": [
       "<Figure size 640x480 with 1 Axes>"
      ]
     },
     "metadata": {},
     "output_type": "display_data"
    }
   ],
   "source": [
    "sns.violinplot(data = df, x = \"maint\", y = \"persons\", palette = [\"crimson\", \"aqua\", \"yellow\", \"teal\"])\n",
    "plt.title(\"Number of Persons by maintenance price\")\n",
    "plt.xlabel(\"Maintenance Price\")\n",
    "plt.ylabel(\"Number of Persons\")"
   ]
  },
  {
   "cell_type": "markdown",
   "id": "67ca6e79",
   "metadata": {},
   "source": [
    "The number of persons is not dependent on the maintenance cost"
   ]
  },
  {
   "cell_type": "code",
   "execution_count": null,
   "id": "c2167c42",
   "metadata": {},
   "outputs": [],
   "source": []
  },
  {
   "cell_type": "markdown",
   "id": "3c43514a",
   "metadata": {},
   "source": [
    "#### Class acceptance level in relation to the safety measure"
   ]
  },
  {
   "cell_type": "code",
   "execution_count": 22,
   "id": "a63720a5",
   "metadata": {},
   "outputs": [
    {
     "data": {
      "text/plain": [
       "Text(0.5, 1.0, 'Class by Safety')"
      ]
     },
     "execution_count": 22,
     "metadata": {},
     "output_type": "execute_result"
    },
    {
     "data": {
      "image/png": "[encoded data removed]",
      "text/plain": [
       "<Figure size 800x500 with 1 Axes>"
      ]
     },
     "metadata": {},
     "output_type": "display_data"
    }
   ],
   "source": [
    "plt.figure(figsize = (8, 5))\n",
    "sns.countplot(x = \"safety\", hue = \"class\", data = df, palette = [\"crimson\", \"aqua\", \"yellow\", \"teal\"])\n",
    "plt.title(\"Class by Safety\")"
   ]
  },
  {
   "cell_type": "markdown",
   "id": "5d6ffd71",
   "metadata": {},
   "source": [
    "From the visualization, it is clear that low safety is completely cosindered unacceptable car class.  \n",
    "  \n",
    "The very goog car class is only found in the category high safety."
   ]
  },
  {
   "cell_type": "code",
   "execution_count": null,
   "id": "32164557",
   "metadata": {},
   "outputs": [],
   "source": []
  },
  {
   "cell_type": "markdown",
   "id": "753a0844",
   "metadata": {},
   "source": [
    "#### How is the acceptance class level affected by the maintenance price?"
   ]
  },
  {
   "cell_type": "code",
   "execution_count": 23,
   "id": "f628ea0b",
   "metadata": {},
   "outputs": [
    {
     "data": {
      "text/plain": [
       "Text(0.5, 1.0, 'Class by maint price')"
      ]
     },
     "execution_count": 23,
     "metadata": {},
     "output_type": "execute_result"
    },
    {
     "data": {
      "image/png": "[encoded data removed]",
      "text/plain": [
       "<Figure size 800x500 with 1 Axes>"
      ]
     },
     "metadata": {},
     "output_type": "display_data"
    }
   ],
   "source": [
    "plt.figure(figsize = (8, 5))\n",
    "sns.countplot(x = \"maint\", hue = \"class\", data = df, palette = [\"crimson\", \"aqua\", \"yellow\", \"teal\"])\n",
    "plt.title(\"Class by maint price\")"
   ]
  },
  {
   "cell_type": "markdown",
   "id": "6e4303fa",
   "metadata": {},
   "source": [
    "The higher the maintenance price the lower the level of class acceptance"
   ]
  },
  {
   "cell_type": "code",
   "execution_count": 24,
   "id": "b5491c82",
   "metadata": {},
   "outputs": [
    {
     "data": {
      "text/plain": [
       "dtype('O')"
      ]
     },
     "execution_count": 24,
     "metadata": {},
     "output_type": "execute_result"
    }
   ],
   "source": [
    "df.columns.dtype"
   ]
  },
  {
   "cell_type": "code",
   "execution_count": 25,
   "id": "752196e4",
   "metadata": {},
   "outputs": [
    {
     "name": "stdout",
     "output_type": "stream",
     "text": [
      "['vhigh' 'high' 'med' 'low'] \n",
      " ['vhigh' 'high' 'med' 'low'] \n",
      " ['small' 'med' 'big'] \n",
      " ['high' 'low' 'med'] \n",
      " ['unacc' 'acc' 'vgood' 'good']\n"
     ]
    }
   ],
   "source": [
    "b = df[\"buying\"].unique()\n",
    "c = df[\"maint\"].unique()\n",
    "d = df[\"lug_boot\"].unique()\n",
    "e = df[\"safety\"].unique()\n",
    "f = df[\"class\"].unique()\n",
    "print(b, '\\n', c, '\\n', d, '\\n', e, '\\n', f)"
   ]
  },
  {
   "cell_type": "markdown",
   "id": "4bd82747",
   "metadata": {},
   "source": []
  },
  {
   "cell_type": "markdown",
   "id": "62d5006a",
   "metadata": {},
   "source": [
    "#### Data encoding"
   ]
  },
  {
   "cell_type": "code",
   "execution_count": 26,
   "id": "c7e1c4cb",
   "metadata": {},
   "outputs": [
    {
     "data": {
      "text/plain": [
       "array([4, 3, 2, 1], dtype=int64)"
      ]
     },
     "execution_count": 26,
     "metadata": {},
     "output_type": "execute_result"
    }
   ],
   "source": [
    "# Ordinal Encoding\n",
    "buying_mapping = {\"vhigh\" : 4, \"high\" : 3, \"med\" : 2, \"low\" : 1}\n",
    "df[\"buying_enc\"] = df[\"buying\"].map(buying_mapping)\n",
    "df[\"buying_enc\"].unique()"
   ]
  },
  {
   "cell_type": "code",
   "execution_count": 27,
   "id": "43848b6f",
   "metadata": {},
   "outputs": [
    {
     "data": {
      "text/plain": [
       "array([4, 3, 2, 1], dtype=int64)"
      ]
     },
     "execution_count": 27,
     "metadata": {},
     "output_type": "execute_result"
    }
   ],
   "source": [
    "maint_mapping={'vhigh': 4, 'high': 3, 'med': 2, 'low': 1}\n",
    "df['maint_enc']=df[\"maint\"].map(maint_mapping)\n",
    "df['maint_enc'].unique()"
   ]
  },
  {
   "cell_type": "code",
   "execution_count": 28,
   "id": "31c8dfc4",
   "metadata": {},
   "outputs": [
    {
     "data": {
      "text/plain": [
       "array([1, 2, 3], dtype=int64)"
      ]
     },
     "execution_count": 28,
     "metadata": {},
     "output_type": "execute_result"
    }
   ],
   "source": [
    "lugboot_mapping = {\"small\" : 1, \"med\" : 2, \"big\" : 3}\n",
    "df[\"lugboot_enc\"] = df[\"lug_boot\"].map(lugboot_mapping)\n",
    "df[\"lugboot_enc\"].unique()"
   ]
  },
  {
   "cell_type": "code",
   "execution_count": 29,
   "id": "c17bae2c",
   "metadata": {},
   "outputs": [],
   "source": [
    "df['doors_enc']=df[\"doors\"]\n",
    "df['persons_enc']=df[\"persons\"]\n",
    "df['class_enc']=df[\"class\"]"
   ]
  },
  {
   "cell_type": "code",
   "execution_count": 30,
   "id": "46789a40",
   "metadata": {},
   "outputs": [
    {
     "data": {
      "text/html": [
       "<div>\n",
       "<style scoped>\n",
       "    .dataframe tbody tr th:only-of-type {\n",
       "        vertical-align: middle;\n",
       "    }\n",
       "\n",
       "    .dataframe tbody tr th {\n",
       "        vertical-align: top;\n",
       "    }\n",
       "\n",
       "    .dataframe thead th {\n",
       "        text-align: right;\n",
       "    }\n",
       "</style>\n",
       "<table border=\"1\" class=\"dataframe\">\n",
       "  <thead>\n",
       "    <tr style=\"text-align: right;\">\n",
       "      <th></th>\n",
       "      <th>buying_enc</th>\n",
       "      <th>maint_enc</th>\n",
       "      <th>lugboot_enc</th>\n",
       "      <th>doors_enc</th>\n",
       "      <th>persons_enc</th>\n",
       "      <th>class_enc</th>\n",
       "    </tr>\n",
       "  </thead>\n",
       "  <tbody>\n",
       "    <tr>\n",
       "      <th>0</th>\n",
       "      <td>4</td>\n",
       "      <td>4</td>\n",
       "      <td>1</td>\n",
       "      <td>2</td>\n",
       "      <td>2</td>\n",
       "      <td>unacc</td>\n",
       "    </tr>\n",
       "    <tr>\n",
       "      <th>1</th>\n",
       "      <td>4</td>\n",
       "      <td>4</td>\n",
       "      <td>2</td>\n",
       "      <td>2</td>\n",
       "      <td>2</td>\n",
       "      <td>unacc</td>\n",
       "    </tr>\n",
       "    <tr>\n",
       "      <th>2</th>\n",
       "      <td>4</td>\n",
       "      <td>4</td>\n",
       "      <td>2</td>\n",
       "      <td>2</td>\n",
       "      <td>2</td>\n",
       "      <td>unacc</td>\n",
       "    </tr>\n",
       "    <tr>\n",
       "      <th>3</th>\n",
       "      <td>4</td>\n",
       "      <td>4</td>\n",
       "      <td>2</td>\n",
       "      <td>2</td>\n",
       "      <td>2</td>\n",
       "      <td>unacc</td>\n",
       "    </tr>\n",
       "    <tr>\n",
       "      <th>4</th>\n",
       "      <td>4</td>\n",
       "      <td>4</td>\n",
       "      <td>3</td>\n",
       "      <td>2</td>\n",
       "      <td>2</td>\n",
       "      <td>unacc</td>\n",
       "    </tr>\n",
       "    <tr>\n",
       "      <th>...</th>\n",
       "      <td>...</td>\n",
       "      <td>...</td>\n",
       "      <td>...</td>\n",
       "      <td>...</td>\n",
       "      <td>...</td>\n",
       "      <td>...</td>\n",
       "    </tr>\n",
       "    <tr>\n",
       "      <th>1721</th>\n",
       "      <td>1</td>\n",
       "      <td>1</td>\n",
       "      <td>2</td>\n",
       "      <td>5</td>\n",
       "      <td>5</td>\n",
       "      <td>good</td>\n",
       "    </tr>\n",
       "    <tr>\n",
       "      <th>1722</th>\n",
       "      <td>1</td>\n",
       "      <td>1</td>\n",
       "      <td>2</td>\n",
       "      <td>5</td>\n",
       "      <td>5</td>\n",
       "      <td>vgood</td>\n",
       "    </tr>\n",
       "    <tr>\n",
       "      <th>1723</th>\n",
       "      <td>1</td>\n",
       "      <td>1</td>\n",
       "      <td>3</td>\n",
       "      <td>5</td>\n",
       "      <td>5</td>\n",
       "      <td>unacc</td>\n",
       "    </tr>\n",
       "    <tr>\n",
       "      <th>1724</th>\n",
       "      <td>1</td>\n",
       "      <td>1</td>\n",
       "      <td>3</td>\n",
       "      <td>5</td>\n",
       "      <td>5</td>\n",
       "      <td>good</td>\n",
       "    </tr>\n",
       "    <tr>\n",
       "      <th>1725</th>\n",
       "      <td>1</td>\n",
       "      <td>1</td>\n",
       "      <td>3</td>\n",
       "      <td>5</td>\n",
       "      <td>5</td>\n",
       "      <td>vgood</td>\n",
       "    </tr>\n",
       "  </tbody>\n",
       "</table>\n",
       "<p>1726 rows × 6 columns</p>\n",
       "</div>"
      ],
      "text/plain": [
       "      buying_enc  maint_enc  lugboot_enc  doors_enc  persons_enc class_enc\n",
       "0              4          4            1          2            2     unacc\n",
       "1              4          4            2          2            2     unacc\n",
       "2              4          4            2          2            2     unacc\n",
       "3              4          4            2          2            2     unacc\n",
       "4              4          4            3          2            2     unacc\n",
       "...          ...        ...          ...        ...          ...       ...\n",
       "1721           1          1            2          5            5      good\n",
       "1722           1          1            2          5            5     vgood\n",
       "1723           1          1            3          5            5     unacc\n",
       "1724           1          1            3          5            5      good\n",
       "1725           1          1            3          5            5     vgood\n",
       "\n",
       "[1726 rows x 6 columns]"
      ]
     },
     "execution_count": 30,
     "metadata": {},
     "output_type": "execute_result"
    }
   ],
   "source": [
    "df_encoded = df.drop(column_names, axis = 1)\n",
    "df_encoded"
   ]
  },
  {
   "cell_type": "code",
   "execution_count": 31,
   "id": "069c20da",
   "metadata": {},
   "outputs": [],
   "source": [
    "# define features and target\n",
    "x = df_encoded.drop(columns = [\"class_enc\"], axis = 1) # Features\n",
    "y = df_encoded[\"class_enc\"] # Target"
   ]
  },
  {
   "cell_type": "markdown",
   "id": "d1d17e14",
   "metadata": {},
   "source": []
  },
  {
   "cell_type": "markdown",
   "id": "26e67c02",
   "metadata": {},
   "source": [
    "## Model Cross Validation Using Stratified K-Fold"
   ]
  },
  {
   "cell_type": "code",
   "execution_count": 32,
   "id": "59e70e05",
   "metadata": {},
   "outputs": [],
   "source": [
    "from sklearn.model_selection import cross_val_score, StratifiedKFold\n",
    "from sklearn.svm import SVC\n",
    "from sklearn.neighbors import KNeighborsClassifier\n",
    "from sklearn.tree import DecisionTreeClassifier\n",
    "from sklearn.model_selection import KFold"
   ]
  },
  {
   "cell_type": "code",
   "execution_count": 33,
   "id": "fc4d0ace",
   "metadata": {},
   "outputs": [
    {
     "name": "stdout",
     "output_type": "stream",
     "text": [
      "SVM Average Accuracy:  0.6981451288244767\n",
      "KNN Average Accuracy:  0.6390438808373591\n",
      "Decision Tree Average Accuracy:  0.6239794685990337\n"
     ]
    }
   ],
   "source": [
    "# Create Classifiers\n",
    "svm_classifier = SVC(kernel = \"linear\", C = 1)\n",
    "knn_classifier = KNeighborsClassifier(n_neighbors = 3)\n",
    "dt_classifier = DecisionTreeClassifier(random_state = 42)\n",
    "\n",
    "# Define stratified k-fold cross-validation\n",
    "stratified_kfold = StratifiedKFold(n_splits = 3, shuffle = True )\n",
    "\n",
    "# Compare classifiers using cross-validation\n",
    "svm_scores = cross_val_score(svm_classifier, x, y, cv = stratified_kfold, scoring = \"accuracy\")\n",
    "knn_scores = cross_val_score(knn_classifier, x, y, cv = stratified_kfold, scoring = \"accuracy\")\n",
    "dt_scores = cross_val_score(dt_classifier, x, y, cv = stratified_kfold, scoring = \"accuracy\")\n",
    "\n",
    "# Print average accuracy for each classifier\n",
    "print(\"SVM Average Accuracy: \", svm_scores.mean())\n",
    "print(\"KNN Average Accuracy: \", knn_scores.mean())\n",
    "print(\"Decision Tree Average Accuracy: \", dt_scores.mean())"
   ]
  },
  {
   "cell_type": "code",
   "execution_count": null,
   "id": "160805fd",
   "metadata": {},
   "outputs": [],
   "source": []
  },
  {
   "cell_type": "markdown",
   "id": "fd0789fb",
   "metadata": {},
   "source": [
    "#### Decision Tree Modelling"
   ]
  },
  {
   "cell_type": "code",
   "execution_count": 34,
   "id": "f4ce5aa7",
   "metadata": {},
   "outputs": [],
   "source": [
    "from sklearn.model_selection import train_test_split\n",
    "x_train, x_test, y_train, y_test = train_test_split(x, y, shuffle = True, test_size = 0.2, random_state = 0)"
   ]
  },
  {
   "cell_type": "code",
   "execution_count": 35,
   "id": "399ced06",
   "metadata": {},
   "outputs": [
    {
     "data": {
      "text/plain": [
       "((1380, 5), (346,))"
      ]
     },
     "execution_count": 35,
     "metadata": {},
     "output_type": "execute_result"
    }
   ],
   "source": [
    "x_train.shape, y_test.shape"
   ]
  },
  {
   "cell_type": "code",
   "execution_count": 36,
   "id": "c3739add",
   "metadata": {},
   "outputs": [
    {
     "data": {
      "text/html": [
       "<style>#sk-container-id-1 {color: black;}#sk-container-id-1 pre{padding: 0;}#sk-container-id-1 div.sk-toggleable {background-color: white;}#sk-container-id-1 label.sk-toggleable__label {cursor: pointer;display: block;width: 100%;margin-bottom: 0;padding: 0.3em;box-sizing: border-box;text-align: center;}#sk-container-id-1 label.sk-toggleable__label-arrow:before {content: \"▸\";float: left;margin-right: 0.25em;color: #696969;}#sk-container-id-1 label.sk-toggleable__label-arrow:hover:before {color: black;}#sk-container-id-1 div.sk-estimator:hover label.sk-toggleable__label-arrow:before {color: black;}#sk-container-id-1 div.sk-toggleable__content {max-height: 0;max-width: 0;overflow: hidden;text-align: left;background-color: #f0f8ff;}#sk-container-id-1 div.sk-toggleable__content pre {margin: 0.2em;color: black;border-radius: 0.25em;background-color: #f0f8ff;}#sk-container-id-1 input.sk-toggleable__control:checked~div.sk-toggleable__content {max-height: 200px;max-width: 100%;overflow: auto;}#sk-container-id-1 input.sk-toggleable__control:checked~label.sk-toggleable__label-arrow:before {content: \"▾\";}#sk-container-id-1 div.sk-estimator input.sk-toggleable__control:checked~label.sk-toggleable__label {background-color: #d4ebff;}#sk-container-id-1 div.sk-label input.sk-toggleable__control:checked~label.sk-toggleable__label {background-color: #d4ebff;}#sk-container-id-1 input.sk-hidden--visually {border: 0;clip: rect(1px 1px 1px 1px);clip: rect(1px, 1px, 1px, 1px);height: 1px;margin: -1px;overflow: hidden;padding: 0;position: absolute;width: 1px;}#sk-container-id-1 div.sk-estimator {font-family: monospace;background-color: #f0f8ff;border: 1px dotted black;border-radius: 0.25em;box-sizing: border-box;margin-bottom: 0.5em;}#sk-container-id-1 div.sk-estimator:hover {background-color: #d4ebff;}#sk-container-id-1 div.sk-parallel-item::after {content: \"\";width: 100%;border-bottom: 1px solid gray;flex-grow: 1;}#sk-container-id-1 div.sk-label:hover label.sk-toggleable__label {background-color: #d4ebff;}#sk-container-id-1 div.sk-serial::before {content: \"\";position: absolute;border-left: 1px solid gray;box-sizing: border-box;top: 0;bottom: 0;left: 50%;z-index: 0;}#sk-container-id-1 div.sk-serial {display: flex;flex-direction: column;align-items: center;background-color: white;padding-right: 0.2em;padding-left: 0.2em;position: relative;}#sk-container-id-1 div.sk-item {position: relative;z-index: 1;}#sk-container-id-1 div.sk-parallel {display: flex;align-items: stretch;justify-content: center;background-color: white;position: relative;}#sk-container-id-1 div.sk-item::before, #sk-container-id-1 div.sk-parallel-item::before {content: \"\";position: absolute;border-left: 1px solid gray;box-sizing: border-box;top: 0;bottom: 0;left: 50%;z-index: -1;}#sk-container-id-1 div.sk-parallel-item {display: flex;flex-direction: column;z-index: 1;position: relative;background-color: white;}#sk-container-id-1 div.sk-parallel-item:first-child::after {align-self: flex-end;width: 50%;}#sk-container-id-1 div.sk-parallel-item:last-child::after {align-self: flex-start;width: 50%;}#sk-container-id-1 div.sk-parallel-item:only-child::after {width: 0;}#sk-container-id-1 div.sk-dashed-wrapped {border: 1px dashed gray;margin: 0 0.4em 0.5em 0.4em;box-sizing: border-box;padding-bottom: 0.4em;background-color: white;}#sk-container-id-1 div.sk-label label {font-family: monospace;font-weight: bold;display: inline-block;line-height: 1.2em;}#sk-container-id-1 div.sk-label-container {text-align: center;}#sk-container-id-1 div.sk-container {/* jupyter's `normalize.less` sets `[hidden] { display: none; }` but bootstrap.min.css set `[hidden] { display: none !important; }` so we also need the `!important` here to be able to override the default hidden behavior on the sphinx rendered scikit-learn.org. See: https://github.com/scikit-learn/scikit-learn/issues/21755 */display: inline-block !important;position: relative;}#sk-container-id-1 div.sk-text-repr-fallback {display: none;}</style><div id=\"sk-container-id-1\" class=\"sk-top-container\"><div class=\"sk-text-repr-fallback\"><pre>DecisionTreeClassifier(max_depth=4, random_state=0)</pre><b>In a Jupyter environment, please rerun this cell to show the HTML representation or trust the notebook. <br />On GitHub, the HTML representation is unable to render, please try loading this page with nbviewer.org.</b></div><div class=\"sk-container\" hidden><div class=\"sk-item\"><div class=\"sk-estimator sk-toggleable\"><input class=\"sk-toggleable__control sk-hidden--visually\" id=\"sk-estimator-id-1\" type=\"checkbox\" checked><label for=\"sk-estimator-id-1\" class=\"sk-toggleable__label sk-toggleable__label-arrow\">DecisionTreeClassifier</label><div class=\"sk-toggleable__content\"><pre>DecisionTreeClassifier(max_depth=4, random_state=0)</pre></div></div></div></div></div>"
      ],
      "text/plain": [
       "DecisionTreeClassifier(max_depth=4, random_state=0)"
      ]
     },
     "execution_count": 36,
     "metadata": {},
     "output_type": "execute_result"
    }
   ],
   "source": [
    "# Fitting the model\n",
    "dt = DecisionTreeClassifier(max_depth = 4, random_state = 0)\n",
    "dt.fit(x, y)"
   ]
  },
  {
   "cell_type": "code",
   "execution_count": 37,
   "id": "afd2ad0c",
   "metadata": {},
   "outputs": [
    {
     "data": {
      "text/plain": [
       "array(['acc', 'unacc', 'unacc', 'unacc', 'unacc', 'unacc', 'unacc', 'acc'],\n",
       "      dtype=object)"
      ]
     },
     "execution_count": 37,
     "metadata": {},
     "output_type": "execute_result"
    }
   ],
   "source": [
    "prediction = dt.predict(x_test)\n",
    "prediction[:8]"
   ]
  },
  {
   "cell_type": "code",
   "execution_count": 38,
   "id": "4846aa00",
   "metadata": {},
   "outputs": [
    {
     "name": "stdout",
     "output_type": "stream",
     "text": [
      "              precision    recall  f1-score   support\n",
      "\n",
      "         acc       0.52      0.53      0.52        72\n",
      "        good       0.00      0.00      0.00         0\n",
      "       unacc       0.86      0.77      0.81       274\n",
      "       vgood       0.00      0.00      0.00         0\n",
      "\n",
      "    accuracy                           0.72       346\n",
      "   macro avg       0.35      0.32      0.33       346\n",
      "weighted avg       0.79      0.72      0.75       346\n",
      "\n"
     ]
    }
   ],
   "source": [
    "# performance of trained classifier on test set\n",
    "from sklearn.metrics import classification_report\n",
    "print(classification_report(prediction, y_test))"
   ]
  },
  {
   "cell_type": "markdown",
   "id": "13c6c3f4",
   "metadata": {},
   "source": [
    "### Feature Importances"
   ]
  },
  {
   "cell_type": "markdown",
   "id": "0a21f028",
   "metadata": {},
   "source": [
    "Quantifying which features are more important in classifying car's class acceptance"
   ]
  },
  {
   "cell_type": "code",
   "execution_count": 39,
   "id": "aad4f6ef",
   "metadata": {},
   "outputs": [
    {
     "data": {
      "text/html": [
       "<div>\n",
       "<style scoped>\n",
       "    .dataframe tbody tr th:only-of-type {\n",
       "        vertical-align: middle;\n",
       "    }\n",
       "\n",
       "    .dataframe tbody tr th {\n",
       "        vertical-align: top;\n",
       "    }\n",
       "\n",
       "    .dataframe thead th {\n",
       "        text-align: right;\n",
       "    }\n",
       "</style>\n",
       "<table border=\"1\" class=\"dataframe\">\n",
       "  <thead>\n",
       "    <tr style=\"text-align: right;\">\n",
       "      <th></th>\n",
       "      <th>Features</th>\n",
       "      <th>Importances</th>\n",
       "    </tr>\n",
       "  </thead>\n",
       "  <tbody>\n",
       "    <tr>\n",
       "      <th>4</th>\n",
       "      <td>persons_enc</td>\n",
       "      <td>0.485441</td>\n",
       "    </tr>\n",
       "    <tr>\n",
       "      <th>1</th>\n",
       "      <td>maint_enc</td>\n",
       "      <td>0.287139</td>\n",
       "    </tr>\n",
       "    <tr>\n",
       "      <th>0</th>\n",
       "      <td>buying_enc</td>\n",
       "      <td>0.118648</td>\n",
       "    </tr>\n",
       "    <tr>\n",
       "      <th>2</th>\n",
       "      <td>lugboot_enc</td>\n",
       "      <td>0.108772</td>\n",
       "    </tr>\n",
       "    <tr>\n",
       "      <th>3</th>\n",
       "      <td>doors_enc</td>\n",
       "      <td>0.000000</td>\n",
       "    </tr>\n",
       "  </tbody>\n",
       "</table>\n",
       "</div>"
      ],
      "text/plain": [
       "      Features  Importances\n",
       "4  persons_enc     0.485441\n",
       "1    maint_enc     0.287139\n",
       "0   buying_enc     0.118648\n",
       "2  lugboot_enc     0.108772\n",
       "3    doors_enc     0.000000"
      ]
     },
     "execution_count": 39,
     "metadata": {},
     "output_type": "execute_result"
    }
   ],
   "source": [
    "feature_names=x_train.columns\n",
    "dfFeatures = pd.DataFrame({\"Features\" : feature_names.to_list(), \"Importances\" : dt.feature_importances_})\n",
    "dfFeatures.sort_values(by = \"Importances\", ascending = False)"
   ]
  },
  {
   "cell_type": "markdown",
   "id": "6573083a",
   "metadata": {},
   "source": [
    "From the table we can conclude that \"safety\", \"number of persons\" and \"maintainance price\" are the most important features in classifying whether the car is acceptable or unacceptable."
   ]
  },
  {
   "cell_type": "markdown",
   "id": "0d729275",
   "metadata": {},
   "source": [
    "In the given code snippet, `dt.feature_importances_` refers to the feature importances assigned to each feature (or predictor) by the trained decision tree classifier (`dt`).\n",
    "\n",
    "Here's what it means:\n",
    "\n",
    "- **Feature Importances**: \n",
    "  - After training a decision tree classifier, each feature is assigned an importance score indicating its contribution to the predictive accuracy of the model.\n",
    "  - Feature importance helps in understanding which features are most influential in making predictions and can be valuable for feature selection and understanding the underlying data relationships.\n",
    "\n",
    "- **`dt.feature_importances_`**:\n",
    "  - This attribute of the trained decision tree classifier (`dt`) stores the feature importances.\n",
    "  - It's an array-like object where each element corresponds to the importance of a feature.\n",
    "  - The length of this array matches the number of features in the input data.\n",
    "\n",
    "- **Usage**:\n",
    "  - By accessing `dt.feature_importances_`, you can analyze and rank the importance of features based on their contribution to the model's predictive performance.\n",
    "  - In the given code, these feature importances are stored in a DataFrame along with the corresponding feature names for further analysis and interpretation.\n",
    "\n",
    "- **Interpretation**:\n",
    "  - Higher feature importance scores indicate that the feature has a stronger influence on the model's predictions.\n",
    "  - Features with higher importances are considered more informative or influential in the decision-making process of the classifier.\n",
    "\n",
    "In summary, `dt.feature_importances_` provides insight into the relative importance of each feature in the decision tree classifier's predictions, allowing for feature ranking and interpretation of the model's behavior."
   ]
  },
  {
   "cell_type": "code",
   "execution_count": null,
   "id": "85c6635a-b4db-4206-9520-51015f0a0f4f",
   "metadata": {},
   "outputs": [],
   "source": []
  },
  {
   "cell_type": "markdown",
   "id": "42d786a0-734c-4abd-93a4-52b4004a955b",
   "metadata": {},
   "source": [
    "Does the feature importance of each feature given by DecisionTreeClassifier().feature_importance_ is the importance of features for only Decision Tree Classifier or these feature importances can be used to only retain important features and use the dataset with these features for model other than Decision Tree Classifier ?"
   ]
  },
  {
   "cell_type": "code",
   "execution_count": null,
   "id": "00bf2888",
   "metadata": {},
   "outputs": [],
   "source": []
  },
  {
   "cell_type": "markdown",
   "id": "2f724eef-f1f9-4d32-bd98-2d93292d70de",
   "metadata": {},
   "source": [
    "The feature importance scores provided by `DecisionTreeClassifier().feature_importances_` are specific to the **Decision Tree model** that was trained. They represent how useful each feature was for making decisions (splits) in the tree, and they are computed based on how much each feature reduces the impurity across all splits.\r\n",
    "\r\n",
    "### Can Feature Importances Be Used for Other Models?\r\n",
    "Yes, the feature importances calculated by `DecisionTreeClassifier` can be used to **select important features** that may also be valuable for other types of models. Here’s how and why:\r\n",
    "\r\n",
    "1. **Model-Agnostic Feature Selection**:\r\n",
    "   - Feature importance scores from a decision tree (or tree-based models like Random Forest) are often used to identify the most important features in a dataset.\r\n",
    "   - You can use these importance scores to **retain the top-N most important features**, which can then be used as input to **other models** such as logistic regression, support vector machines, or neural networks.\r\n",
    "\r\n",
    "2. **Why It Can Be Useful**:\r\n",
    "   - Decision trees naturally rank features based on their usefulness for predicting the target.\r\n",
    "   - This ranking can help reduce the dimensionality of your dataset by **eliminating less informative features**, potentially improving performance for other models and reducing overfitting.\r\n",
    "\r\n",
    "3. **Limitations**:\r\n",
    "   - The feature importance provided by a decision tree reflects the importance in the context of that tree. Some models (e.g., linear models or SVM) may perform better or worse based on interactions between features or other characteristics that a decision tree doesn't capture.\r\n",
    "   - Therefore, while it's a good starting point, it is always helpful to validate if the reduced set of features actually improves the performance of the new model through **cross-validation or feature selection validation** techniques.\r\n",
    "\r\n",
    "### Example Workflow\r\n",
    "Here’s a typical workflow if you want to use feature importance from `DecisionTreeClassifier` to select features for another model:\r\n",
    "\r\n",
    "1. **Train a Decision Tree Classifier** to determine feature importance:\r\n",
    "   ```python\r\n",
    "   from sklearn.tree import DecisionTreeClassifier\r\n",
    "\r\n",
    "   # Train DecisionTreeClassifier\r\n",
    "   dt_model = DecisionTreeClassifier()\r\n",
    "   dt_model.fit(X_train, y_train)\r\n",
    "\r\n",
    "   # Get feature importances\r\n",
    "   feature_importances = dt_model.feature_importances_\r\n",
    "   ```\r\n",
    "\r\n",
    "2. **Select Important Features**:\r\n",
    "   ```python\r\n",
    "   import numpy as np\r\n",
    "\r\n",
    "   # Set a threshold for feature importance, e.g., select features with importance > 0.01\r\n",
    "   important_features = np.where(feature_importances > 0.01)[0]\r\n",
    "\r\n",
    "   # Retain only important features\r\n",
    "   X_train_selected = X_train[:, important_features]\r\n",
    "   X_test_selected = X_test[:, important_features]\r\n",
    "   ```\r\n",
    "\r\n",
    "3. **Train Another Model Using Selected Features**:\r\n",
    "   ```python\r\n",
    "   from sklearn.ensemble import RandomForestClassifier\r\n",
    "\r\n",
    "   # Train another model (e.g., Random Forest) on selected features\r\n",
    "   rf_model = RandomForestClassifier()\r\n",
    "   rf_model.fit(X_train_selected, y_train)\r\n",
    "\r\n",
    "   # Evaluate on test set\r\n",
    "   y_pred = rf_model.predict(X_test_selected)\r\n",
    "   ```\r\n",
    "\r\n",
    "### Summary\r\n",
    "- The feature importances from `DecisionTreeClassifier` can **definitely be used to select the most relevant features** for any other model, not just decision trees.\r\n",
    "- However, you should evaluate whether using only those selected features **improves performance** with the new model, as different models may value features differently depending on their internal mechanisms.\r\n"
   ]
  },
  {
   "cell_type": "code",
   "execution_count": null,
   "id": "2ca2be44-c881-4f88-a0f2-18ed94aa24ec",
   "metadata": {},
   "outputs": [],
   "source": []
  }
 ],
 "metadata": {
  "kernelspec": {
   "display_name": "Python 3 (ipykernel)",
   "language": "python",
   "name": "python3"
  },
  "language_info": {
   "codemirror_mode": {
    "name": "ipython",
    "version": 3
   },
   "file_extension": ".py",
   "mimetype": "text/x-python",
   "name": "python",
   "nbconvert_exporter": "python",
   "pygments_lexer": "ipython3",
   "version": "3.12.4"
  }
 },
 "nbformat": 4,
 "nbformat_minor": 5
}
