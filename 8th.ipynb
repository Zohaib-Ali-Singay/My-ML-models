{
 "cells": [
  {
   "cell_type": "markdown",
   "id": "3f7877d8-f040-4524-97bc-366e86d7b1d7",
   "metadata": {},
   "source": [
    "https://www.kaggle.com/datasets/nani123456789/taxi-trip-fare-prediction"
   ]
  },
  {
   "cell_type": "code",
   "execution_count": 1,
   "id": "b829f21d-5647-4d52-8880-d4947ebf09df",
   "metadata": {},
   "outputs": [],
   "source": [
    "import numpy as np\n",
    "import pandas as pd\n",
    "import seaborn as sns\n",
    "import matplotlib.pyplot as plt"
   ]
  },
  {
   "cell_type": "code",
   "execution_count": 2,
   "id": "384d8414-f2b7-45f0-8081-6a8b1a75ae92",
   "metadata": {},
   "outputs": [],
   "source": [
    "df_train = pd.read_csv(\"car_fare_train.csv\")\n",
    "df_test = pd.read_csv(\"car_fare_test.csv\")"
   ]
  },
  {
   "cell_type": "code",
   "execution_count": 3,
   "id": "5038457f-21ef-444e-9b24-92449fb71630",
   "metadata": {},
   "outputs": [
    {
     "data": {
      "text/plain": [
       "trip_duration          16.233247\n",
       "distance_traveled     456.516156\n",
       "num_of_passengers       3.764228\n",
       "fare                    8.399862\n",
       "tip                    17.911359\n",
       "miscellaneous_fees      2.337464\n",
       "total_fare              6.493129\n",
       "surge_applied           0.977081\n",
       "dtype: float64"
      ]
     },
     "execution_count": 3,
     "metadata": {},
     "output_type": "execute_result"
    }
   ],
   "source": [
    "df_train.skew()"
   ]
  },
  {
   "cell_type": "code",
   "execution_count": 4,
   "id": "c64deeb8-9d33-42ee-9fa1-2db13a30c1a9",
   "metadata": {},
   "outputs": [
    {
     "data": {
      "text/html": [
       "<div>\n",
       "<style scoped>\n",
       "    .dataframe tbody tr th:only-of-type {\n",
       "        vertical-align: middle;\n",
       "    }\n",
       "\n",
       "    .dataframe tbody tr th {\n",
       "        vertical-align: top;\n",
       "    }\n",
       "\n",
       "    .dataframe thead th {\n",
       "        text-align: right;\n",
       "    }\n",
       "</style>\n",
       "<table border=\"1\" class=\"dataframe\">\n",
       "  <thead>\n",
       "    <tr style=\"text-align: right;\">\n",
       "      <th></th>\n",
       "      <th>trip_duration</th>\n",
       "      <th>distance_traveled</th>\n",
       "      <th>num_of_passengers</th>\n",
       "      <th>fare</th>\n",
       "      <th>tip</th>\n",
       "      <th>miscellaneous_fees</th>\n",
       "      <th>total_fare</th>\n",
       "      <th>surge_applied</th>\n",
       "    </tr>\n",
       "  </thead>\n",
       "  <tbody>\n",
       "    <tr>\n",
       "      <th>0</th>\n",
       "      <td>748.0</td>\n",
       "      <td>2.75</td>\n",
       "      <td>1.0</td>\n",
       "      <td>75.00</td>\n",
       "      <td>24</td>\n",
       "      <td>6.300</td>\n",
       "      <td>105.300</td>\n",
       "      <td>0</td>\n",
       "    </tr>\n",
       "    <tr>\n",
       "      <th>1</th>\n",
       "      <td>1187.0</td>\n",
       "      <td>3.43</td>\n",
       "      <td>1.0</td>\n",
       "      <td>105.00</td>\n",
       "      <td>24</td>\n",
       "      <td>13.200</td>\n",
       "      <td>142.200</td>\n",
       "      <td>0</td>\n",
       "    </tr>\n",
       "    <tr>\n",
       "      <th>2</th>\n",
       "      <td>730.0</td>\n",
       "      <td>3.12</td>\n",
       "      <td>1.0</td>\n",
       "      <td>71.25</td>\n",
       "      <td>0</td>\n",
       "      <td>26.625</td>\n",
       "      <td>97.875</td>\n",
       "      <td>1</td>\n",
       "    </tr>\n",
       "    <tr>\n",
       "      <th>3</th>\n",
       "      <td>671.0</td>\n",
       "      <td>5.63</td>\n",
       "      <td>3.0</td>\n",
       "      <td>90.00</td>\n",
       "      <td>0</td>\n",
       "      <td>9.750</td>\n",
       "      <td>99.750</td>\n",
       "      <td>0</td>\n",
       "    </tr>\n",
       "    <tr>\n",
       "      <th>4</th>\n",
       "      <td>329.0</td>\n",
       "      <td>2.09</td>\n",
       "      <td>1.0</td>\n",
       "      <td>45.00</td>\n",
       "      <td>12</td>\n",
       "      <td>13.200</td>\n",
       "      <td>70.200</td>\n",
       "      <td>0</td>\n",
       "    </tr>\n",
       "  </tbody>\n",
       "</table>\n",
       "</div>"
      ],
      "text/plain": [
       "   trip_duration  distance_traveled  num_of_passengers    fare  tip  \\\n",
       "0          748.0               2.75                1.0   75.00   24   \n",
       "1         1187.0               3.43                1.0  105.00   24   \n",
       "2          730.0               3.12                1.0   71.25    0   \n",
       "3          671.0               5.63                3.0   90.00    0   \n",
       "4          329.0               2.09                1.0   45.00   12   \n",
       "\n",
       "   miscellaneous_fees  total_fare  surge_applied  \n",
       "0               6.300     105.300              0  \n",
       "1              13.200     142.200              0  \n",
       "2              26.625      97.875              1  \n",
       "3               9.750      99.750              0  \n",
       "4              13.200      70.200              0  "
      ]
     },
     "execution_count": 4,
     "metadata": {},
     "output_type": "execute_result"
    }
   ],
   "source": [
    "df_train.head()"
   ]
  },
  {
   "cell_type": "code",
   "execution_count": 5,
   "id": "175baf5c-d29c-4074-9a0a-afa99ab41cbb",
   "metadata": {},
   "outputs": [
    {
     "data": {
      "text/plain": [
       "trip_duration         0\n",
       "distance_traveled     0\n",
       "num_of_passengers     0\n",
       "fare                  0\n",
       "tip                   0\n",
       "miscellaneous_fees    0\n",
       "total_fare            0\n",
       "surge_applied         0\n",
       "dtype: int64"
      ]
     },
     "execution_count": 5,
     "metadata": {},
     "output_type": "execute_result"
    }
   ],
   "source": [
    "df_train.isnull().sum() * 100"
   ]
  },
  {
   "cell_type": "code",
   "execution_count": 6,
   "id": "ba2dffdc-33eb-4d59-a2a2-3fbcd8f09808",
   "metadata": {},
   "outputs": [
    {
     "data": {
      "image/png": "[encoded data removed]",
      "text/plain": [
       "<Figure size 640x480 with 1 Axes>"
      ]
     },
     "metadata": {},
     "output_type": "display_data"
    }
   ],
   "source": [
    "axis = sns.countplot(x = df_train[\"surge_applied\"])\n",
    "for container in axis.containers:\n",
    "    axis.bar_label(container)\n",
    "plt.tight_layout()\n",
    "plt.show()"
   ]
  },
  {
   "cell_type": "code",
   "execution_count": 7,
   "id": "21328edd-aba8-45cd-9653-b7f6ddb00ab3",
   "metadata": {},
   "outputs": [
    {
     "data": {
      "text/plain": [
       "<Axes: xlabel='trip_duration', ylabel='Density'>"
      ]
     },
     "execution_count": 7,
     "metadata": {},
     "output_type": "execute_result"
    },
    {
     "data": {
      "image/png": "[encoded data removed]",
      "text/plain": [
       "<Figure size 640x480 with 1 Axes>"
      ]
     },
     "metadata": {},
     "output_type": "display_data"
    }
   ],
   "source": [
    "sns.kdeplot(x = df_train[\"trip_duration\"])"
   ]
  },
  {
   "cell_type": "code",
   "execution_count": 8,
   "id": "c31afe73-91e0-4ab4-a214-0671e7007766",
   "metadata": {},
   "outputs": [
    {
     "data": {
      "text/plain": [
       "<Axes: xlabel='trip_duration'>"
      ]
     },
     "execution_count": 8,
     "metadata": {},
     "output_type": "execute_result"
    },
    {
     "data": {
      "image/png": "[encoded data removed]",
      "text/plain": [
       "<Figure size 640x480 with 1 Axes>"
      ]
     },
     "metadata": {},
     "output_type": "display_data"
    }
   ],
   "source": [
    "sns.boxplot(x = df_train[\"trip_duration\"])"
   ]
  },
  {
   "cell_type": "code",
   "execution_count": 9,
   "id": "e1b8764a-f2be-4690-8b1d-2326eea37413",
   "metadata": {},
   "outputs": [
    {
     "name": "stdout",
     "output_type": "stream",
     "text": [
      "<class 'pandas.core.frame.DataFrame'>\n",
      "RangeIndex: 209673 entries, 0 to 209672\n",
      "Data columns (total 8 columns):\n",
      " #   Column              Non-Null Count   Dtype  \n",
      "---  ------              --------------   -----  \n",
      " 0   trip_duration       209673 non-null  float64\n",
      " 1   distance_traveled   209673 non-null  float64\n",
      " 2   num_of_passengers   209673 non-null  float64\n",
      " 3   fare                209673 non-null  float64\n",
      " 4   tip                 209673 non-null  int64  \n",
      " 5   miscellaneous_fees  209673 non-null  float64\n",
      " 6   total_fare          209673 non-null  float64\n",
      " 7   surge_applied       209673 non-null  int64  \n",
      "dtypes: float64(6), int64(2)\n",
      "memory usage: 12.8 MB\n"
     ]
    }
   ],
   "source": [
    "df_train.info()"
   ]
  },
  {
   "cell_type": "code",
   "execution_count": 10,
   "id": "f74df84a-28cd-434d-a7cb-3f882be50ba3",
   "metadata": {},
   "outputs": [
    {
     "data": {
      "text/html": [
       "<div>\n",
       "<style scoped>\n",
       "    .dataframe tbody tr th:only-of-type {\n",
       "        vertical-align: middle;\n",
       "    }\n",
       "\n",
       "    .dataframe tbody tr th {\n",
       "        vertical-align: top;\n",
       "    }\n",
       "\n",
       "    .dataframe thead th {\n",
       "        text-align: right;\n",
       "    }\n",
       "</style>\n",
       "<table border=\"1\" class=\"dataframe\">\n",
       "  <thead>\n",
       "    <tr style=\"text-align: right;\">\n",
       "      <th></th>\n",
       "      <th>trip_duration</th>\n",
       "      <th>distance_traveled</th>\n",
       "      <th>num_of_passengers</th>\n",
       "      <th>fare</th>\n",
       "      <th>tip</th>\n",
       "      <th>miscellaneous_fees</th>\n",
       "      <th>total_fare</th>\n",
       "      <th>surge_applied</th>\n",
       "    </tr>\n",
       "  </thead>\n",
       "  <tbody>\n",
       "    <tr>\n",
       "      <th>count</th>\n",
       "      <td>209673.000000</td>\n",
       "      <td>209673.000000</td>\n",
       "      <td>209673.000000</td>\n",
       "      <td>209673.000000</td>\n",
       "      <td>209673.000000</td>\n",
       "      <td>209673.000000</td>\n",
       "      <td>209673.000000</td>\n",
       "      <td>209673.000000</td>\n",
       "    </tr>\n",
       "    <tr>\n",
       "      <th>mean</th>\n",
       "      <td>1173.181478</td>\n",
       "      <td>5.054431</td>\n",
       "      <td>1.292808</td>\n",
       "      <td>99.623431</td>\n",
       "      <td>13.030824</td>\n",
       "      <td>15.136829</td>\n",
       "      <td>127.791084</td>\n",
       "      <td>0.280523</td>\n",
       "    </tr>\n",
       "    <tr>\n",
       "      <th>std</th>\n",
       "      <td>4775.653621</td>\n",
       "      <td>125.217419</td>\n",
       "      <td>0.930754</td>\n",
       "      <td>85.602702</td>\n",
       "      <td>20.367764</td>\n",
       "      <td>12.553436</td>\n",
       "      <td>98.797374</td>\n",
       "      <td>0.449256</td>\n",
       "    </tr>\n",
       "    <tr>\n",
       "      <th>min</th>\n",
       "      <td>0.000000</td>\n",
       "      <td>0.020000</td>\n",
       "      <td>0.000000</td>\n",
       "      <td>0.000000</td>\n",
       "      <td>0.000000</td>\n",
       "      <td>-0.500000</td>\n",
       "      <td>0.000000</td>\n",
       "      <td>0.000000</td>\n",
       "    </tr>\n",
       "    <tr>\n",
       "      <th>25%</th>\n",
       "      <td>446.000000</td>\n",
       "      <td>1.950000</td>\n",
       "      <td>1.000000</td>\n",
       "      <td>52.500000</td>\n",
       "      <td>0.000000</td>\n",
       "      <td>6.000000</td>\n",
       "      <td>70.200000</td>\n",
       "      <td>0.000000</td>\n",
       "    </tr>\n",
       "    <tr>\n",
       "      <th>50%</th>\n",
       "      <td>707.000000</td>\n",
       "      <td>3.200000</td>\n",
       "      <td>1.000000</td>\n",
       "      <td>75.000000</td>\n",
       "      <td>9.000000</td>\n",
       "      <td>9.750000</td>\n",
       "      <td>101.700000</td>\n",
       "      <td>0.000000</td>\n",
       "    </tr>\n",
       "    <tr>\n",
       "      <th>75%</th>\n",
       "      <td>1098.000000</td>\n",
       "      <td>5.730000</td>\n",
       "      <td>1.000000</td>\n",
       "      <td>116.250000</td>\n",
       "      <td>20.000000</td>\n",
       "      <td>26.450000</td>\n",
       "      <td>152.250000</td>\n",
       "      <td>1.000000</td>\n",
       "    </tr>\n",
       "    <tr>\n",
       "      <th>max</th>\n",
       "      <td>86387.000000</td>\n",
       "      <td>57283.910000</td>\n",
       "      <td>9.000000</td>\n",
       "      <td>4466.250000</td>\n",
       "      <td>2500.000000</td>\n",
       "      <td>435.000000</td>\n",
       "      <td>4472.250000</td>\n",
       "      <td>1.000000</td>\n",
       "    </tr>\n",
       "  </tbody>\n",
       "</table>\n",
       "</div>"
      ],
      "text/plain": [
       "       trip_duration  distance_traveled  num_of_passengers           fare  \\\n",
       "count  209673.000000      209673.000000      209673.000000  209673.000000   \n",
       "mean     1173.181478           5.054431           1.292808      99.623431   \n",
       "std      4775.653621         125.217419           0.930754      85.602702   \n",
       "min         0.000000           0.020000           0.000000       0.000000   \n",
       "25%       446.000000           1.950000           1.000000      52.500000   \n",
       "50%       707.000000           3.200000           1.000000      75.000000   \n",
       "75%      1098.000000           5.730000           1.000000     116.250000   \n",
       "max     86387.000000       57283.910000           9.000000    4466.250000   \n",
       "\n",
       "                 tip  miscellaneous_fees     total_fare  surge_applied  \n",
       "count  209673.000000       209673.000000  209673.000000  209673.000000  \n",
       "mean       13.030824           15.136829     127.791084       0.280523  \n",
       "std        20.367764           12.553436      98.797374       0.449256  \n",
       "min         0.000000           -0.500000       0.000000       0.000000  \n",
       "25%         0.000000            6.000000      70.200000       0.000000  \n",
       "50%         9.000000            9.750000     101.700000       0.000000  \n",
       "75%        20.000000           26.450000     152.250000       1.000000  \n",
       "max      2500.000000          435.000000    4472.250000       1.000000  "
      ]
     },
     "execution_count": 10,
     "metadata": {},
     "output_type": "execute_result"
    }
   ],
   "source": [
    "df_train.describe()"
   ]
  },
  {
   "cell_type": "code",
   "execution_count": 12,
   "id": "3ae3cddc-8c68-47bb-83e0-93c31c1797c1",
   "metadata": {},
   "outputs": [],
   "source": [
    "numerical_cols = [\"trip_duration\", \"distance_traveled\", \"fare\", \"tip\", \"miscellaneous_fees\"]\n",
    "df_train[numerical_cols] = np.log(df_train[numerical_cols] + 1)"
   ]
  },
  {
   "cell_type": "code",
   "execution_count": 13,
   "id": "686c1717-5099-420c-b381-e704af8feea2",
   "metadata": {},
   "outputs": [],
   "source": [
    "df_test[numerical_cols] = np.log(df_test[numerical_cols] + 1)"
   ]
  },
  {
   "cell_type": "code",
   "execution_count": 14,
   "id": "39a21fbd-f137-42f1-ba6c-46031050ae96",
   "metadata": {},
   "outputs": [
    {
     "name": "stderr",
     "output_type": "stream",
     "text": [
      "C:\\Users\\Zohaib Ali Singay\\AppData\\Local\\Temp\\ipykernel_18116\\3340172357.py:9: UserWarning: \n",
      "\n",
      "`distplot` is a deprecated function and will be removed in seaborn v0.14.0.\n",
      "\n",
      "Please adapt your code to use either `displot` (a figure-level function with\n",
      "similar flexibility) or `histplot` (an axes-level function for histograms).\n",
      "\n",
      "For a guide to updating your code to use the new functions, please see\n",
      "https://gist.github.com/mwaskom/de44147ed2974457ad6372750bbe5751\n",
      "\n",
      "  sns.distplot(x = df_train[numerical_cols[k]], kde = True, ax = axis[i][j])\n",
      "C:\\Users\\Zohaib Ali Singay\\AppData\\Local\\Temp\\ipykernel_18116\\3340172357.py:9: UserWarning: \n",
      "\n",
      "`distplot` is a deprecated function and will be removed in seaborn v0.14.0.\n",
      "\n",
      "Please adapt your code to use either `displot` (a figure-level function with\n",
      "similar flexibility) or `histplot` (an axes-level function for histograms).\n",
      "\n",
      "For a guide to updating your code to use the new functions, please see\n",
      "https://gist.github.com/mwaskom/de44147ed2974457ad6372750bbe5751\n",
      "\n",
      "  sns.distplot(x = df_train[numerical_cols[k]], kde = True, ax = axis[i][j])\n",
      "C:\\Users\\Zohaib Ali Singay\\AppData\\Local\\Temp\\ipykernel_18116\\3340172357.py:9: UserWarning: \n",
      "\n",
      "`distplot` is a deprecated function and will be removed in seaborn v0.14.0.\n",
      "\n",
      "Please adapt your code to use either `displot` (a figure-level function with\n",
      "similar flexibility) or `histplot` (an axes-level function for histograms).\n",
      "\n",
      "For a guide to updating your code to use the new functions, please see\n",
      "https://gist.github.com/mwaskom/de44147ed2974457ad6372750bbe5751\n",
      "\n",
      "  sns.distplot(x = df_train[numerical_cols[k]], kde = True, ax = axis[i][j])\n",
      "C:\\Users\\Zohaib Ali Singay\\AppData\\Local\\Temp\\ipykernel_18116\\3340172357.py:9: UserWarning: \n",
      "\n",
      "`distplot` is a deprecated function and will be removed in seaborn v0.14.0.\n",
      "\n",
      "Please adapt your code to use either `displot` (a figure-level function with\n",
      "similar flexibility) or `histplot` (an axes-level function for histograms).\n",
      "\n",
      "For a guide to updating your code to use the new functions, please see\n",
      "https://gist.github.com/mwaskom/de44147ed2974457ad6372750bbe5751\n",
      "\n",
      "  sns.distplot(x = df_train[numerical_cols[k]], kde = True, ax = axis[i][j])\n",
      "C:\\Users\\Zohaib Ali Singay\\AppData\\Local\\Temp\\ipykernel_18116\\3340172357.py:9: UserWarning: \n",
      "\n",
      "`distplot` is a deprecated function and will be removed in seaborn v0.14.0.\n",
      "\n",
      "Please adapt your code to use either `displot` (a figure-level function with\n",
      "similar flexibility) or `histplot` (an axes-level function for histograms).\n",
      "\n",
      "For a guide to updating your code to use the new functions, please see\n",
      "https://gist.github.com/mwaskom/de44147ed2974457ad6372750bbe5751\n",
      "\n",
      "  sns.distplot(x = df_train[numerical_cols[k]], kde = True, ax = axis[i][j])\n"
     ]
    },
    {
     "ename": "IndexError",
     "evalue": "list index out of range",
     "output_type": "error",
     "traceback": [
      "\u001b[1;31m---------------------------------------------------------------------------\u001b[0m",
      "\u001b[1;31mIndexError\u001b[0m                                Traceback (most recent call last)",
      "Cell \u001b[1;32mIn[14], line 9\u001b[0m\n\u001b[0;32m      5\u001b[0m     \u001b[38;5;28;01mbreak\u001b[39;00m\n\u001b[0;32m      6\u001b[0m \u001b[38;5;28;01mfor\u001b[39;00m j \u001b[38;5;129;01min\u001b[39;00m \u001b[38;5;28mrange\u001b[39m(\u001b[38;5;241m3\u001b[39m):\n\u001b[0;32m      7\u001b[0m     \u001b[38;5;66;03m# df_train[numerical_cols[k]] = np.log{df[numerical_cols[k]] + 1}\u001b[39;00m\n\u001b[0;32m      8\u001b[0m     \u001b[38;5;66;03m# df_test[numerical_cols[k]] = np.log(df[numerical_cols[k]] + 1)\u001b[39;00m\n\u001b[1;32m----> 9\u001b[0m     sns\u001b[38;5;241m.\u001b[39mdistplot(x \u001b[38;5;241m=\u001b[39m df_train[numerical_cols[k]], kde \u001b[38;5;241m=\u001b[39m \u001b[38;5;28;01mTrue\u001b[39;00m, ax \u001b[38;5;241m=\u001b[39m axis[i][j])\n\u001b[0;32m     10\u001b[0m     axis[i][j]\u001b[38;5;241m.\u001b[39mset_xlabel(numerical_cols[k])\n\u001b[0;32m     11\u001b[0m     k \u001b[38;5;241m=\u001b[39m k \u001b[38;5;241m+\u001b[39m \u001b[38;5;241m1\u001b[39m\n",
      "\u001b[1;31mIndexError\u001b[0m: list index out of range"
     ]
    },
    {
     "data": {
      "image/png": "[encoded data removed]",
      "text/plain": [
       "<Figure size 1000x1000 with 6 Axes>"
      ]
     },
     "metadata": {},
     "output_type": "display_data"
    }
   ],
   "source": [
    "fig, axis = plt.subplots(nrows = 2, ncols = 3, figsize = (10, 10))\n",
    "k = 0\n",
    "for i in range(2):\n",
    "    if k == 5:\n",
    "        break\n",
    "    for j in range(3):\n",
    "        # df_train[numerical_cols[k]] = np.log{df[numerical_cols[k]] + 1}\n",
    "        # df_test[numerical_cols[k]] = np.log(df[numerical_cols[k]] + 1)\n",
    "        sns.distplot(x = df_train[numerical_cols[k]], kde = True, ax = axis[i][j])\n",
    "        axis[i][j].set_xlabel(numerical_cols[k])\n",
    "        k = k + 1\n",
    "plt.tight_layout()\n",
    "plt.show()"
   ]
  },
  {
   "cell_type": "code",
   "execution_count": 15,
   "id": "c5a835d9-3569-425e-8dbc-d2c84ce7560f",
   "metadata": {},
   "outputs": [
    {
     "data": {
      "text/plain": [
       "trip_duration        -0.719375\n",
       "distance_traveled     0.593809\n",
       "num_of_passengers     3.764228\n",
       "fare                  0.233546\n",
       "tip                   0.010230\n",
       "miscellaneous_fees    0.320350\n",
       "total_fare            6.493129\n",
       "surge_applied         0.977081\n",
       "dtype: float64"
      ]
     },
     "execution_count": 15,
     "metadata": {},
     "output_type": "execute_result"
    }
   ],
   "source": [
    "df_train.skew()"
   ]
  },
  {
   "cell_type": "code",
   "execution_count": 16,
   "id": "3f199f7f-ca0a-4370-bbdd-cf86c15ac3d5",
   "metadata": {},
   "outputs": [
    {
     "data": {
      "text/plain": [
       "<Axes: xlabel='trip_duration'>"
      ]
     },
     "execution_count": 16,
     "metadata": {},
     "output_type": "execute_result"
    },
    {
     "data": {
      "image/png": "[encoded data removed]",
      "text/plain": [
       "<Figure size 640x480 with 1 Axes>"
      ]
     },
     "metadata": {},
     "output_type": "display_data"
    }
   ],
   "source": [
    "sns.boxplot(x = df_train[\"trip_duration\"])"
   ]
  },
  {
   "cell_type": "code",
   "execution_count": 17,
   "id": "ebdf862f-d564-4e2a-9650-270580ce7c2e",
   "metadata": {},
   "outputs": [
    {
     "data": {
      "text/html": [
       "<div>\n",
       "<style scoped>\n",
       "    .dataframe tbody tr th:only-of-type {\n",
       "        vertical-align: middle;\n",
       "    }\n",
       "\n",
       "    .dataframe tbody tr th {\n",
       "        vertical-align: top;\n",
       "    }\n",
       "\n",
       "    .dataframe thead th {\n",
       "        text-align: right;\n",
       "    }\n",
       "</style>\n",
       "<table border=\"1\" class=\"dataframe\">\n",
       "  <thead>\n",
       "    <tr style=\"text-align: right;\">\n",
       "      <th></th>\n",
       "      <th>trip_duration</th>\n",
       "      <th>distance_traveled</th>\n",
       "      <th>num_of_passengers</th>\n",
       "      <th>fare</th>\n",
       "      <th>tip</th>\n",
       "      <th>miscellaneous_fees</th>\n",
       "      <th>total_fare</th>\n",
       "      <th>surge_applied</th>\n",
       "    </tr>\n",
       "  </thead>\n",
       "  <tbody>\n",
       "    <tr>\n",
       "      <th>count</th>\n",
       "      <td>209673.000000</td>\n",
       "      <td>209673.000000</td>\n",
       "      <td>209673.000000</td>\n",
       "      <td>209673.000000</td>\n",
       "      <td>209673.000000</td>\n",
       "      <td>209673.000000</td>\n",
       "      <td>209673.000000</td>\n",
       "      <td>209673.000000</td>\n",
       "    </tr>\n",
       "    <tr>\n",
       "      <th>mean</th>\n",
       "      <td>6.527056</td>\n",
       "      <td>1.525915</td>\n",
       "      <td>1.292808</td>\n",
       "      <td>4.412811</td>\n",
       "      <td>1.671279</td>\n",
       "      <td>2.535112</td>\n",
       "      <td>127.791084</td>\n",
       "      <td>0.280523</td>\n",
       "    </tr>\n",
       "    <tr>\n",
       "      <th>std</th>\n",
       "      <td>0.871260</td>\n",
       "      <td>0.635180</td>\n",
       "      <td>0.930754</td>\n",
       "      <td>0.600573</td>\n",
       "      <td>1.559067</td>\n",
       "      <td>0.687020</td>\n",
       "      <td>98.797374</td>\n",
       "      <td>0.449256</td>\n",
       "    </tr>\n",
       "    <tr>\n",
       "      <th>min</th>\n",
       "      <td>0.000000</td>\n",
       "      <td>0.019803</td>\n",
       "      <td>0.000000</td>\n",
       "      <td>0.000000</td>\n",
       "      <td>0.000000</td>\n",
       "      <td>-0.693147</td>\n",
       "      <td>0.000000</td>\n",
       "      <td>0.000000</td>\n",
       "    </tr>\n",
       "    <tr>\n",
       "      <th>25%</th>\n",
       "      <td>6.102559</td>\n",
       "      <td>1.081805</td>\n",
       "      <td>1.000000</td>\n",
       "      <td>3.979682</td>\n",
       "      <td>0.000000</td>\n",
       "      <td>1.945910</td>\n",
       "      <td>70.200000</td>\n",
       "      <td>0.000000</td>\n",
       "    </tr>\n",
       "    <tr>\n",
       "      <th>50%</th>\n",
       "      <td>6.562444</td>\n",
       "      <td>1.435085</td>\n",
       "      <td>1.000000</td>\n",
       "      <td>4.330733</td>\n",
       "      <td>2.302585</td>\n",
       "      <td>2.374906</td>\n",
       "      <td>101.700000</td>\n",
       "      <td>0.000000</td>\n",
       "    </tr>\n",
       "    <tr>\n",
       "      <th>75%</th>\n",
       "      <td>7.002156</td>\n",
       "      <td>1.906575</td>\n",
       "      <td>1.000000</td>\n",
       "      <td>4.764308</td>\n",
       "      <td>3.044522</td>\n",
       "      <td>3.312366</td>\n",
       "      <td>152.250000</td>\n",
       "      <td>1.000000</td>\n",
       "    </tr>\n",
       "    <tr>\n",
       "      <th>max</th>\n",
       "      <td>11.366604</td>\n",
       "      <td>10.955793</td>\n",
       "      <td>9.000000</td>\n",
       "      <td>8.404528</td>\n",
       "      <td>7.824446</td>\n",
       "      <td>6.077642</td>\n",
       "      <td>4472.250000</td>\n",
       "      <td>1.000000</td>\n",
       "    </tr>\n",
       "  </tbody>\n",
       "</table>\n",
       "</div>"
      ],
      "text/plain": [
       "       trip_duration  distance_traveled  num_of_passengers           fare  \\\n",
       "count  209673.000000      209673.000000      209673.000000  209673.000000   \n",
       "mean        6.527056           1.525915           1.292808       4.412811   \n",
       "std         0.871260           0.635180           0.930754       0.600573   \n",
       "min         0.000000           0.019803           0.000000       0.000000   \n",
       "25%         6.102559           1.081805           1.000000       3.979682   \n",
       "50%         6.562444           1.435085           1.000000       4.330733   \n",
       "75%         7.002156           1.906575           1.000000       4.764308   \n",
       "max        11.366604          10.955793           9.000000       8.404528   \n",
       "\n",
       "                 tip  miscellaneous_fees     total_fare  surge_applied  \n",
       "count  209673.000000       209673.000000  209673.000000  209673.000000  \n",
       "mean        1.671279            2.535112     127.791084       0.280523  \n",
       "std         1.559067            0.687020      98.797374       0.449256  \n",
       "min         0.000000           -0.693147       0.000000       0.000000  \n",
       "25%         0.000000            1.945910      70.200000       0.000000  \n",
       "50%         2.302585            2.374906     101.700000       0.000000  \n",
       "75%         3.044522            3.312366     152.250000       1.000000  \n",
       "max         7.824446            6.077642    4472.250000       1.000000  "
      ]
     },
     "execution_count": 17,
     "metadata": {},
     "output_type": "execute_result"
    }
   ],
   "source": [
    "df_train.describe()"
   ]
  },
  {
   "cell_type": "code",
   "execution_count": 18,
   "id": "a18dae2e-d380-4785-9112-3e72abec4478",
   "metadata": {},
   "outputs": [
    {
     "name": "stderr",
     "output_type": "stream",
     "text": [
      "C:\\Users\\Zohaib Ali Singay\\AppData\\Local\\Temp\\ipykernel_18116\\2475596306.py:21: SettingWithCopyWarning: \n",
      "A value is trying to be set on a copy of a slice from a DataFrame.\n",
      "Try using .loc[row_indexer,col_indexer] = value instead\n",
      "\n",
      "See the caveats in the documentation: https://pandas.pydata.org/pandas-docs/stable/user_guide/indexing.html#returning-a-view-versus-a-copy\n",
      "  df_test[(df_test[i] > upper_bound_test)][i] = upper_bound_test\n",
      "C:\\Users\\Zohaib Ali Singay\\AppData\\Local\\Temp\\ipykernel_18116\\2475596306.py:18: SettingWithCopyWarning: \n",
      "A value is trying to be set on a copy of a slice from a DataFrame.\n",
      "Try using .loc[row_indexer,col_indexer] = value instead\n",
      "\n",
      "See the caveats in the documentation: https://pandas.pydata.org/pandas-docs/stable/user_guide/indexing.html#returning-a-view-versus-a-copy\n",
      "  df_train[(df_train[i] > upper_bound_train)][i] = upper_bound_train\n",
      "C:\\Users\\Zohaib Ali Singay\\AppData\\Local\\Temp\\ipykernel_18116\\2475596306.py:21: SettingWithCopyWarning: \n",
      "A value is trying to be set on a copy of a slice from a DataFrame.\n",
      "Try using .loc[row_indexer,col_indexer] = value instead\n",
      "\n",
      "See the caveats in the documentation: https://pandas.pydata.org/pandas-docs/stable/user_guide/indexing.html#returning-a-view-versus-a-copy\n",
      "  df_test[(df_test[i] > upper_bound_test)][i] = upper_bound_test\n",
      "C:\\Users\\Zohaib Ali Singay\\AppData\\Local\\Temp\\ipykernel_18116\\2475596306.py:18: SettingWithCopyWarning: \n",
      "A value is trying to be set on a copy of a slice from a DataFrame.\n",
      "Try using .loc[row_indexer,col_indexer] = value instead\n",
      "\n",
      "See the caveats in the documentation: https://pandas.pydata.org/pandas-docs/stable/user_guide/indexing.html#returning-a-view-versus-a-copy\n",
      "  df_train[(df_train[i] > upper_bound_train)][i] = upper_bound_train\n",
      "C:\\Users\\Zohaib Ali Singay\\AppData\\Local\\Temp\\ipykernel_18116\\2475596306.py:17: SettingWithCopyWarning: \n",
      "A value is trying to be set on a copy of a slice from a DataFrame.\n",
      "Try using .loc[row_indexer,col_indexer] = value instead\n",
      "\n",
      "See the caveats in the documentation: https://pandas.pydata.org/pandas-docs/stable/user_guide/indexing.html#returning-a-view-versus-a-copy\n",
      "  df_train[(df_train[i] < lower_bound_train)][i] = lower_bound_train\n",
      "C:\\Users\\Zohaib Ali Singay\\AppData\\Local\\Temp\\ipykernel_18116\\2475596306.py:18: SettingWithCopyWarning: \n",
      "A value is trying to be set on a copy of a slice from a DataFrame.\n",
      "Try using .loc[row_indexer,col_indexer] = value instead\n",
      "\n",
      "See the caveats in the documentation: https://pandas.pydata.org/pandas-docs/stable/user_guide/indexing.html#returning-a-view-versus-a-copy\n",
      "  df_train[(df_train[i] > upper_bound_train)][i] = upper_bound_train\n",
      "C:\\Users\\Zohaib Ali Singay\\AppData\\Local\\Temp\\ipykernel_18116\\2475596306.py:21: SettingWithCopyWarning: \n",
      "A value is trying to be set on a copy of a slice from a DataFrame.\n",
      "Try using .loc[row_indexer,col_indexer] = value instead\n",
      "\n",
      "See the caveats in the documentation: https://pandas.pydata.org/pandas-docs/stable/user_guide/indexing.html#returning-a-view-versus-a-copy\n",
      "  df_test[(df_test[i] > upper_bound_test)][i] = upper_bound_test\n",
      "C:\\Users\\Zohaib Ali Singay\\AppData\\Local\\Temp\\ipykernel_18116\\2475596306.py:21: SettingWithCopyWarning: \n",
      "A value is trying to be set on a copy of a slice from a DataFrame.\n",
      "Try using .loc[row_indexer,col_indexer] = value instead\n",
      "\n",
      "See the caveats in the documentation: https://pandas.pydata.org/pandas-docs/stable/user_guide/indexing.html#returning-a-view-versus-a-copy\n",
      "  df_test[(df_test[i] > upper_bound_test)][i] = upper_bound_test\n"
     ]
    }
   ],
   "source": [
    "for i in numerical_cols:\n",
    "    Q1_train = df_train[i].quantile(0.25)\n",
    "    Q3_train = df_train[i].quantile(0.75)\n",
    "\n",
    "    Q1_test = df_test[i].quantile(0.25)\n",
    "    Q3_test = df_test[i].quantile(0.75)\n",
    "\n",
    "    IQR_train = Q3_train - Q1_train\n",
    "    IQR_test = Q3_test - Q3_test\n",
    "\n",
    "    lower_bound_train = IQR_train - 1.5 * Q1_train\n",
    "    upper_bound_train = IQR_train + 1.5 * Q3_train\n",
    "\n",
    "    lower_bound_test = IQR_test - 1.5 * Q1_test\n",
    "    upper_bound_test = IQR_test + 1.5 * Q3_test\n",
    "\n",
    "    df_train[(df_train[i] < lower_bound_train)][i] = lower_bound_train\n",
    "    df_train[(df_train[i] > upper_bound_train)][i] = upper_bound_train\n",
    "\n",
    "    df_test[(df_test[i] < lower_bound_test)][i] = lower_bound_test\n",
    "    df_test[(df_test[i] > upper_bound_test)][i] = upper_bound_test"
   ]
  },
  {
   "cell_type": "code",
   "execution_count": 19,
   "id": "d9cf5291-a622-4289-899e-1d0baf83cb1d",
   "metadata": {},
   "outputs": [
    {
     "data": {
      "text/html": [
       "<div>\n",
       "<style scoped>\n",
       "    .dataframe tbody tr th:only-of-type {\n",
       "        vertical-align: middle;\n",
       "    }\n",
       "\n",
       "    .dataframe tbody tr th {\n",
       "        vertical-align: top;\n",
       "    }\n",
       "\n",
       "    .dataframe thead th {\n",
       "        text-align: right;\n",
       "    }\n",
       "</style>\n",
       "<table border=\"1\" class=\"dataframe\">\n",
       "  <thead>\n",
       "    <tr style=\"text-align: right;\">\n",
       "      <th></th>\n",
       "      <th>trip_duration</th>\n",
       "      <th>distance_traveled</th>\n",
       "      <th>num_of_passengers</th>\n",
       "      <th>fare</th>\n",
       "      <th>tip</th>\n",
       "      <th>miscellaneous_fees</th>\n",
       "      <th>total_fare</th>\n",
       "      <th>surge_applied</th>\n",
       "    </tr>\n",
       "  </thead>\n",
       "  <tbody>\n",
       "    <tr>\n",
       "      <th>count</th>\n",
       "      <td>209673.000000</td>\n",
       "      <td>209673.000000</td>\n",
       "      <td>209673.000000</td>\n",
       "      <td>209673.000000</td>\n",
       "      <td>209673.000000</td>\n",
       "      <td>209673.000000</td>\n",
       "      <td>209673.000000</td>\n",
       "      <td>209673.000000</td>\n",
       "    </tr>\n",
       "    <tr>\n",
       "      <th>mean</th>\n",
       "      <td>6.527056</td>\n",
       "      <td>1.525915</td>\n",
       "      <td>1.292808</td>\n",
       "      <td>4.412811</td>\n",
       "      <td>1.671279</td>\n",
       "      <td>2.535112</td>\n",
       "      <td>127.791084</td>\n",
       "      <td>0.280523</td>\n",
       "    </tr>\n",
       "    <tr>\n",
       "      <th>std</th>\n",
       "      <td>0.871260</td>\n",
       "      <td>0.635180</td>\n",
       "      <td>0.930754</td>\n",
       "      <td>0.600573</td>\n",
       "      <td>1.559067</td>\n",
       "      <td>0.687020</td>\n",
       "      <td>98.797374</td>\n",
       "      <td>0.449256</td>\n",
       "    </tr>\n",
       "    <tr>\n",
       "      <th>min</th>\n",
       "      <td>0.000000</td>\n",
       "      <td>0.019803</td>\n",
       "      <td>0.000000</td>\n",
       "      <td>0.000000</td>\n",
       "      <td>0.000000</td>\n",
       "      <td>-0.693147</td>\n",
       "      <td>0.000000</td>\n",
       "      <td>0.000000</td>\n",
       "    </tr>\n",
       "    <tr>\n",
       "      <th>25%</th>\n",
       "      <td>6.102559</td>\n",
       "      <td>1.081805</td>\n",
       "      <td>1.000000</td>\n",
       "      <td>3.979682</td>\n",
       "      <td>0.000000</td>\n",
       "      <td>1.945910</td>\n",
       "      <td>70.200000</td>\n",
       "      <td>0.000000</td>\n",
       "    </tr>\n",
       "    <tr>\n",
       "      <th>50%</th>\n",
       "      <td>6.562444</td>\n",
       "      <td>1.435085</td>\n",
       "      <td>1.000000</td>\n",
       "      <td>4.330733</td>\n",
       "      <td>2.302585</td>\n",
       "      <td>2.374906</td>\n",
       "      <td>101.700000</td>\n",
       "      <td>0.000000</td>\n",
       "    </tr>\n",
       "    <tr>\n",
       "      <th>75%</th>\n",
       "      <td>7.002156</td>\n",
       "      <td>1.906575</td>\n",
       "      <td>1.000000</td>\n",
       "      <td>4.764308</td>\n",
       "      <td>3.044522</td>\n",
       "      <td>3.312366</td>\n",
       "      <td>152.250000</td>\n",
       "      <td>1.000000</td>\n",
       "    </tr>\n",
       "    <tr>\n",
       "      <th>max</th>\n",
       "      <td>11.366604</td>\n",
       "      <td>10.955793</td>\n",
       "      <td>9.000000</td>\n",
       "      <td>8.404528</td>\n",
       "      <td>7.824446</td>\n",
       "      <td>6.077642</td>\n",
       "      <td>4472.250000</td>\n",
       "      <td>1.000000</td>\n",
       "    </tr>\n",
       "  </tbody>\n",
       "</table>\n",
       "</div>"
      ],
      "text/plain": [
       "       trip_duration  distance_traveled  num_of_passengers           fare  \\\n",
       "count  209673.000000      209673.000000      209673.000000  209673.000000   \n",
       "mean        6.527056           1.525915           1.292808       4.412811   \n",
       "std         0.871260           0.635180           0.930754       0.600573   \n",
       "min         0.000000           0.019803           0.000000       0.000000   \n",
       "25%         6.102559           1.081805           1.000000       3.979682   \n",
       "50%         6.562444           1.435085           1.000000       4.330733   \n",
       "75%         7.002156           1.906575           1.000000       4.764308   \n",
       "max        11.366604          10.955793           9.000000       8.404528   \n",
       "\n",
       "                 tip  miscellaneous_fees     total_fare  surge_applied  \n",
       "count  209673.000000       209673.000000  209673.000000  209673.000000  \n",
       "mean        1.671279            2.535112     127.791084       0.280523  \n",
       "std         1.559067            0.687020      98.797374       0.449256  \n",
       "min         0.000000           -0.693147       0.000000       0.000000  \n",
       "25%         0.000000            1.945910      70.200000       0.000000  \n",
       "50%         2.302585            2.374906     101.700000       0.000000  \n",
       "75%         3.044522            3.312366     152.250000       1.000000  \n",
       "max         7.824446            6.077642    4472.250000       1.000000  "
      ]
     },
     "execution_count": 19,
     "metadata": {},
     "output_type": "execute_result"
    }
   ],
   "source": [
    "df_train.describe()"
   ]
  },
  {
   "cell_type": "code",
   "execution_count": 20,
   "id": "d71289d5-6fef-4085-9dec-74887a396c28",
   "metadata": {},
   "outputs": [
    {
     "name": "stderr",
     "output_type": "stream",
     "text": [
      "C:\\Users\\Zohaib Ali Singay\\AppData\\Local\\Temp\\ipykernel_18116\\3260607159.py:7: UserWarning: \n",
      "\n",
      "`distplot` is a deprecated function and will be removed in seaborn v0.14.0.\n",
      "\n",
      "Please adapt your code to use either `displot` (a figure-level function with\n",
      "similar flexibility) or `histplot` (an axes-level function for histograms).\n",
      "\n",
      "For a guide to updating your code to use the new functions, please see\n",
      "https://gist.github.com/mwaskom/de44147ed2974457ad6372750bbe5751\n",
      "\n",
      "  sns.distplot(x = df_train[numerical_cols[k]], kde = True, ax = axis[i][j])\n",
      "C:\\Users\\Zohaib Ali Singay\\AppData\\Local\\Temp\\ipykernel_18116\\3260607159.py:7: UserWarning: \n",
      "\n",
      "`distplot` is a deprecated function and will be removed in seaborn v0.14.0.\n",
      "\n",
      "Please adapt your code to use either `displot` (a figure-level function with\n",
      "similar flexibility) or `histplot` (an axes-level function for histograms).\n",
      "\n",
      "For a guide to updating your code to use the new functions, please see\n",
      "https://gist.github.com/mwaskom/de44147ed2974457ad6372750bbe5751\n",
      "\n",
      "  sns.distplot(x = df_train[numerical_cols[k]], kde = True, ax = axis[i][j])\n",
      "C:\\Users\\Zohaib Ali Singay\\AppData\\Local\\Temp\\ipykernel_18116\\3260607159.py:7: UserWarning: \n",
      "\n",
      "`distplot` is a deprecated function and will be removed in seaborn v0.14.0.\n",
      "\n",
      "Please adapt your code to use either `displot` (a figure-level function with\n",
      "similar flexibility) or `histplot` (an axes-level function for histograms).\n",
      "\n",
      "For a guide to updating your code to use the new functions, please see\n",
      "https://gist.github.com/mwaskom/de44147ed2974457ad6372750bbe5751\n",
      "\n",
      "  sns.distplot(x = df_train[numerical_cols[k]], kde = True, ax = axis[i][j])\n",
      "C:\\Users\\Zohaib Ali Singay\\AppData\\Local\\Temp\\ipykernel_18116\\3260607159.py:7: UserWarning: \n",
      "\n",
      "`distplot` is a deprecated function and will be removed in seaborn v0.14.0.\n",
      "\n",
      "Please adapt your code to use either `displot` (a figure-level function with\n",
      "similar flexibility) or `histplot` (an axes-level function for histograms).\n",
      "\n",
      "For a guide to updating your code to use the new functions, please see\n",
      "https://gist.github.com/mwaskom/de44147ed2974457ad6372750bbe5751\n",
      "\n",
      "  sns.distplot(x = df_train[numerical_cols[k]], kde = True, ax = axis[i][j])\n",
      "C:\\Users\\Zohaib Ali Singay\\AppData\\Local\\Temp\\ipykernel_18116\\3260607159.py:7: UserWarning: \n",
      "\n",
      "`distplot` is a deprecated function and will be removed in seaborn v0.14.0.\n",
      "\n",
      "Please adapt your code to use either `displot` (a figure-level function with\n",
      "similar flexibility) or `histplot` (an axes-level function for histograms).\n",
      "\n",
      "For a guide to updating your code to use the new functions, please see\n",
      "https://gist.github.com/mwaskom/de44147ed2974457ad6372750bbe5751\n",
      "\n",
      "  sns.distplot(x = df_train[numerical_cols[k]], kde = True, ax = axis[i][j])\n"
     ]
    },
    {
     "ename": "IndexError",
     "evalue": "list index out of range",
     "output_type": "error",
     "traceback": [
      "\u001b[1;31m---------------------------------------------------------------------------\u001b[0m",
      "\u001b[1;31mIndexError\u001b[0m                                Traceback (most recent call last)",
      "Cell \u001b[1;32mIn[20], line 7\u001b[0m\n\u001b[0;32m      5\u001b[0m     \u001b[38;5;28;01mbreak\u001b[39;00m\n\u001b[0;32m      6\u001b[0m \u001b[38;5;28;01mfor\u001b[39;00m j \u001b[38;5;129;01min\u001b[39;00m \u001b[38;5;28mrange\u001b[39m(\u001b[38;5;241m3\u001b[39m):\n\u001b[1;32m----> 7\u001b[0m     sns\u001b[38;5;241m.\u001b[39mdistplot(x \u001b[38;5;241m=\u001b[39m df_train[numerical_cols[k]], kde \u001b[38;5;241m=\u001b[39m \u001b[38;5;28;01mTrue\u001b[39;00m, ax \u001b[38;5;241m=\u001b[39m axis[i][j])\n\u001b[0;32m      8\u001b[0m     axis[i][j]\u001b[38;5;241m.\u001b[39mset_xlabel(numerical_cols[k])\n\u001b[0;32m      9\u001b[0m     k \u001b[38;5;241m=\u001b[39m k \u001b[38;5;241m+\u001b[39m \u001b[38;5;241m1\u001b[39m\n",
      "\u001b[1;31mIndexError\u001b[0m: list index out of range"
     ]
    },
    {
     "data": {
      "image/png": "[encoded data removed]",
      "text/plain": [
       "<Figure size 1000x1000 with 6 Axes>"
      ]
     },
     "metadata": {},
     "output_type": "display_data"
    }
   ],
   "source": [
    "fig, axis = plt.subplots(nrows = 2, ncols = 3, figsize = (10, 10))\n",
    "k = 0\n",
    "for i in range(2):\n",
    "    if k == 5:\n",
    "        break\n",
    "    for j in range(3):\n",
    "        sns.distplot(x = df_train[numerical_cols[k]], kde = True, ax = axis[i][j])\n",
    "        axis[i][j].set_xlabel(numerical_cols[k])\n",
    "        k = k + 1\n",
    "plt.tight_layout()\n",
    "plt.show()"
   ]
  },
  {
   "cell_type": "code",
   "execution_count": 21,
   "id": "c8bb8b1e-24f2-4f0e-9ed3-e89515ed1a8d",
   "metadata": {},
   "outputs": [],
   "source": [
    "from sklearn.model_selection import GridSearchCV\n",
    "from sklearn.linear_model import LinearRegression\n",
    "from sklearn.ensemble import RandomForestRegressor\n",
    "from sklearn.tree import DecisionTreeRegressor"
   ]
  },
  {
   "cell_type": "code",
   "execution_count": 34,
   "id": "793b16e3-c7f0-401a-8ac7-e6faffeac624",
   "metadata": {},
   "outputs": [],
   "source": [
    "ab = LinearRegression()"
   ]
  },
  {
   "cell_type": "code",
   "execution_count": 23,
   "id": "a02d1c2c-a230-4756-a602-b703bf1119ca",
   "metadata": {},
   "outputs": [],
   "source": [
    "X = df_train.drop(columns = \"total_fare\")\n",
    "y = df_train[\"total_fare\"]"
   ]
  },
  {
   "cell_type": "code",
   "execution_count": 24,
   "id": "88551aa4-2e68-4c64-8a2d-cee64263d01d",
   "metadata": {},
   "outputs": [],
   "source": [
    "from sklearn.model_selection import train_test_split"
   ]
  },
  {
   "cell_type": "code",
   "execution_count": 25,
   "id": "61adf71e-cb81-4210-adc6-f0a869fd03d7",
   "metadata": {},
   "outputs": [],
   "source": [
    "X_train, X_test, y_train, y_test = train_test_split(X, y, test_size = 0.2)"
   ]
  },
  {
   "cell_type": "code",
   "execution_count": 26,
   "id": "b5b8dd92-30d5-4360-b447-d7ada878d071",
   "metadata": {},
   "outputs": [],
   "source": [
    "from sklearn.model_selection import cross_val_score"
   ]
  },
  {
   "cell_type": "code",
   "execution_count": 35,
   "id": "c99b5634-36b1-4bef-a3da-f6b75f3805cb",
   "metadata": {},
   "outputs": [],
   "source": [
    "scores = cross_val_score(ab,X = X_train, y = y_train, cv = 5)"
   ]
  },
  {
   "cell_type": "code",
   "execution_count": 37,
   "id": "0d0e7109-22e7-4138-ad9d-d09c8241719f",
   "metadata": {},
   "outputs": [
    {
     "data": {
      "text/plain": [
       "array([0.72046302, 0.71115362, 0.73631932, 0.73285735, 0.77134036])"
      ]
     },
     "execution_count": 37,
     "metadata": {},
     "output_type": "execute_result"
    }
   ],
   "source": [
    "scores"
   ]
  },
  {
   "cell_type": "code",
   "execution_count": 28,
   "id": "71eafa77-700e-4e16-b92a-04f42dfaa8b6",
   "metadata": {},
   "outputs": [],
   "source": [
    "from sklearn.metrics import r2_score"
   ]
  },
  {
   "cell_type": "code",
   "execution_count": 39,
   "id": "12978ecb-80ff-4f77-a115-2186bcaec46d",
   "metadata": {},
   "outputs": [
    {
     "data": {
      "text/plain": [
       "0.7019769796957113"
      ]
     },
     "execution_count": 39,
     "metadata": {},
     "output_type": "execute_result"
    }
   ],
   "source": [
    "ab.fit(X_train, y_train)\n",
    "r2_score(y_test, ab.predict(X_test))"
   ]
  },
  {
   "cell_type": "markdown",
   "id": "174a5c00-748d-42dc-b19a-3a55ebcead5f",
   "metadata": {},
   "source": [
    "Cross_val_score does not train the model."
   ]
  },
  {
   "cell_type": "code",
   "execution_count": 40,
   "id": "b179e9e3-736c-4598-b705-a325d913c7f2",
   "metadata": {},
   "outputs": [
    {
     "data": {
      "text/plain": [
       "array([0.72046302, 0.71115362, 0.73631932, 0.73285735, 0.77134036])"
      ]
     },
     "execution_count": 40,
     "metadata": {},
     "output_type": "execute_result"
    }
   ],
   "source": [
    "scores"
   ]
  },
  {
   "cell_type": "code",
   "execution_count": 45,
   "id": "78149eee-fc59-4900-820d-61391709dc3d",
   "metadata": {},
   "outputs": [],
   "source": [
    "from sklearn.metrics import mean_absolute_error"
   ]
  },
  {
   "cell_type": "code",
   "execution_count": 46,
   "id": "d90a976b-7d30-4f75-88a7-7ef3667c7bab",
   "metadata": {},
   "outputs": [
    {
     "data": {
      "text/plain": [
       "22.81755119674534"
      ]
     },
     "execution_count": 46,
     "metadata": {},
     "output_type": "execute_result"
    }
   ],
   "source": [
    "mean_absolute_error(y_test, lr.predict(X_test))"
   ]
  },
  {
   "cell_type": "code",
   "execution_count": 49,
   "id": "e6386905-a8e0-4110-bb37-1392264a3d52",
   "metadata": {},
   "outputs": [],
   "source": [
    "params = {\"n_estimators\" : [100, 150, 200, 250, 300, 350], \"min_samples_split\" : [2, 3, 4]}"
   ]
  },
  {
   "cell_type": "code",
   "execution_count": 50,
   "id": "09a294af-d382-43d5-878f-070440b79336",
   "metadata": {},
   "outputs": [],
   "source": [
    "rfr = RandomForestRegressor()"
   ]
  },
  {
   "cell_type": "code",
   "execution_count": 53,
   "id": "14e02e26-0299-459e-b36e-617e93862cea",
   "metadata": {},
   "outputs": [
    {
     "data": {
      "text/html": [
       "<style>#sk-container-id-1 {\n",
       "  /* Definition of color scheme common for light and dark mode */\n",
       "  --sklearn-color-text: black;\n",
       "  --sklearn-color-line: gray;\n",
       "  /* Definition of color scheme for unfitted estimators */\n",
       "  --sklearn-color-unfitted-level-0: #fff5e6;\n",
       "  --sklearn-color-unfitted-level-1: #f6e4d2;\n",
       "  --sklearn-color-unfitted-level-2: #ffe0b3;\n",
       "  --sklearn-color-unfitted-level-3: chocolate;\n",
       "  /* Definition of color scheme for fitted estimators */\n",
       "  --sklearn-color-fitted-level-0: #f0f8ff;\n",
       "  --sklearn-color-fitted-level-1: #d4ebff;\n",
       "  --sklearn-color-fitted-level-2: #b3dbfd;\n",
       "  --sklearn-color-fitted-level-3: cornflowerblue;\n",
       "\n",
       "  /* Specific color for light theme */\n",
       "  --sklearn-color-text-on-default-background: var(--sg-text-color, var(--theme-code-foreground, var(--jp-content-font-color1, black)));\n",
       "  --sklearn-color-background: var(--sg-background-color, var(--theme-background, var(--jp-layout-color0, white)));\n",
       "  --sklearn-color-border-box: var(--sg-text-color, var(--theme-code-foreground, var(--jp-content-font-color1, black)));\n",
       "  --sklearn-color-icon: #696969;\n",
       "\n",
       "  @media (prefers-color-scheme: dark) {\n",
       "    /* Redefinition of color scheme for dark theme */\n",
       "    --sklearn-color-text-on-default-background: var(--sg-text-color, var(--theme-code-foreground, var(--jp-content-font-color1, white)));\n",
       "    --sklearn-color-background: var(--sg-background-color, var(--theme-background, var(--jp-layout-color0, #111)));\n",
       "    --sklearn-color-border-box: var(--sg-text-color, var(--theme-code-foreground, var(--jp-content-font-color1, white)));\n",
       "    --sklearn-color-icon: #878787;\n",
       "  }\n",
       "}\n",
       "\n",
       "#sk-container-id-1 {\n",
       "  color: var(--sklearn-color-text);\n",
       "}\n",
       "\n",
       "#sk-container-id-1 pre {\n",
       "  padding: 0;\n",
       "}\n",
       "\n",
       "#sk-container-id-1 input.sk-hidden--visually {\n",
       "  border: 0;\n",
       "  clip: rect(1px 1px 1px 1px);\n",
       "  clip: rect(1px, 1px, 1px, 1px);\n",
       "  height: 1px;\n",
       "  margin: -1px;\n",
       "  overflow: hidden;\n",
       "  padding: 0;\n",
       "  position: absolute;\n",
       "  width: 1px;\n",
       "}\n",
       "\n",
       "#sk-container-id-1 div.sk-dashed-wrapped {\n",
       "  border: 1px dashed var(--sklearn-color-line);\n",
       "  margin: 0 0.4em 0.5em 0.4em;\n",
       "  box-sizing: border-box;\n",
       "  padding-bottom: 0.4em;\n",
       "  background-color: var(--sklearn-color-background);\n",
       "}\n",
       "\n",
       "#sk-container-id-1 div.sk-container {\n",
       "  /* jupyter's `normalize.less` sets `[hidden] { display: none; }`\n",
       "     but bootstrap.min.css set `[hidden] { display: none !important; }`\n",
       "     so we also need the `!important` here to be able to override the\n",
       "     default hidden behavior on the sphinx rendered scikit-learn.org.\n",
       "     See: https://github.com/scikit-learn/scikit-learn/issues/21755 */\n",
       "  display: inline-block !important;\n",
       "  position: relative;\n",
       "}\n",
       "\n",
       "#sk-container-id-1 div.sk-text-repr-fallback {\n",
       "  display: none;\n",
       "}\n",
       "\n",
       "div.sk-parallel-item,\n",
       "div.sk-serial,\n",
       "div.sk-item {\n",
       "  /* draw centered vertical line to link estimators */\n",
       "  background-image: linear-gradient(var(--sklearn-color-text-on-default-background), var(--sklearn-color-text-on-default-background));\n",
       "  background-size: 2px 100%;\n",
       "  background-repeat: no-repeat;\n",
       "  background-position: center center;\n",
       "}\n",
       "\n",
       "/* Parallel-specific style estimator block */\n",
       "\n",
       "#sk-container-id-1 div.sk-parallel-item::after {\n",
       "  content: \"\";\n",
       "  width: 100%;\n",
       "  border-bottom: 2px solid var(--sklearn-color-text-on-default-background);\n",
       "  flex-grow: 1;\n",
       "}\n",
       "\n",
       "#sk-container-id-1 div.sk-parallel {\n",
       "  display: flex;\n",
       "  align-items: stretch;\n",
       "  justify-content: center;\n",
       "  background-color: var(--sklearn-color-background);\n",
       "  position: relative;\n",
       "}\n",
       "\n",
       "#sk-container-id-1 div.sk-parallel-item {\n",
       "  display: flex;\n",
       "  flex-direction: column;\n",
       "}\n",
       "\n",
       "#sk-container-id-1 div.sk-parallel-item:first-child::after {\n",
       "  align-self: flex-end;\n",
       "  width: 50%;\n",
       "}\n",
       "\n",
       "#sk-container-id-1 div.sk-parallel-item:last-child::after {\n",
       "  align-self: flex-start;\n",
       "  width: 50%;\n",
       "}\n",
       "\n",
       "#sk-container-id-1 div.sk-parallel-item:only-child::after {\n",
       "  width: 0;\n",
       "}\n",
       "\n",
       "/* Serial-specific style estimator block */\n",
       "\n",
       "#sk-container-id-1 div.sk-serial {\n",
       "  display: flex;\n",
       "  flex-direction: column;\n",
       "  align-items: center;\n",
       "  background-color: var(--sklearn-color-background);\n",
       "  padding-right: 1em;\n",
       "  padding-left: 1em;\n",
       "}\n",
       "\n",
       "\n",
       "/* Toggleable style: style used for estimator/Pipeline/ColumnTransformer box that is\n",
       "clickable and can be expanded/collapsed.\n",
       "- Pipeline and ColumnTransformer use this feature and define the default style\n",
       "- Estimators will overwrite some part of the style using the `sk-estimator` class\n",
       "*/\n",
       "\n",
       "/* Pipeline and ColumnTransformer style (default) */\n",
       "\n",
       "#sk-container-id-1 div.sk-toggleable {\n",
       "  /* Default theme specific background. It is overwritten whether we have a\n",
       "  specific estimator or a Pipeline/ColumnTransformer */\n",
       "  background-color: var(--sklearn-color-background);\n",
       "}\n",
       "\n",
       "/* Toggleable label */\n",
       "#sk-container-id-1 label.sk-toggleable__label {\n",
       "  cursor: pointer;\n",
       "  display: block;\n",
       "  width: 100%;\n",
       "  margin-bottom: 0;\n",
       "  padding: 0.5em;\n",
       "  box-sizing: border-box;\n",
       "  text-align: center;\n",
       "}\n",
       "\n",
       "#sk-container-id-1 label.sk-toggleable__label-arrow:before {\n",
       "  /* Arrow on the left of the label */\n",
       "  content: \"▸\";\n",
       "  float: left;\n",
       "  margin-right: 0.25em;\n",
       "  color: var(--sklearn-color-icon);\n",
       "}\n",
       "\n",
       "#sk-container-id-1 label.sk-toggleable__label-arrow:hover:before {\n",
       "  color: var(--sklearn-color-text);\n",
       "}\n",
       "\n",
       "/* Toggleable content - dropdown */\n",
       "\n",
       "#sk-container-id-1 div.sk-toggleable__content {\n",
       "  max-height: 0;\n",
       "  max-width: 0;\n",
       "  overflow: hidden;\n",
       "  text-align: left;\n",
       "  /* unfitted */\n",
       "  background-color: var(--sklearn-color-unfitted-level-0);\n",
       "}\n",
       "\n",
       "#sk-container-id-1 div.sk-toggleable__content.fitted {\n",
       "  /* fitted */\n",
       "  background-color: var(--sklearn-color-fitted-level-0);\n",
       "}\n",
       "\n",
       "#sk-container-id-1 div.sk-toggleable__content pre {\n",
       "  margin: 0.2em;\n",
       "  border-radius: 0.25em;\n",
       "  color: var(--sklearn-color-text);\n",
       "  /* unfitted */\n",
       "  background-color: var(--sklearn-color-unfitted-level-0);\n",
       "}\n",
       "\n",
       "#sk-container-id-1 div.sk-toggleable__content.fitted pre {\n",
       "  /* unfitted */\n",
       "  background-color: var(--sklearn-color-fitted-level-0);\n",
       "}\n",
       "\n",
       "#sk-container-id-1 input.sk-toggleable__control:checked~div.sk-toggleable__content {\n",
       "  /* Expand drop-down */\n",
       "  max-height: 200px;\n",
       "  max-width: 100%;\n",
       "  overflow: auto;\n",
       "}\n",
       "\n",
       "#sk-container-id-1 input.sk-toggleable__control:checked~label.sk-toggleable__label-arrow:before {\n",
       "  content: \"▾\";\n",
       "}\n",
       "\n",
       "/* Pipeline/ColumnTransformer-specific style */\n",
       "\n",
       "#sk-container-id-1 div.sk-label input.sk-toggleable__control:checked~label.sk-toggleable__label {\n",
       "  color: var(--sklearn-color-text);\n",
       "  background-color: var(--sklearn-color-unfitted-level-2);\n",
       "}\n",
       "\n",
       "#sk-container-id-1 div.sk-label.fitted input.sk-toggleable__control:checked~label.sk-toggleable__label {\n",
       "  background-color: var(--sklearn-color-fitted-level-2);\n",
       "}\n",
       "\n",
       "/* Estimator-specific style */\n",
       "\n",
       "/* Colorize estimator box */\n",
       "#sk-container-id-1 div.sk-estimator input.sk-toggleable__control:checked~label.sk-toggleable__label {\n",
       "  /* unfitted */\n",
       "  background-color: var(--sklearn-color-unfitted-level-2);\n",
       "}\n",
       "\n",
       "#sk-container-id-1 div.sk-estimator.fitted input.sk-toggleable__control:checked~label.sk-toggleable__label {\n",
       "  /* fitted */\n",
       "  background-color: var(--sklearn-color-fitted-level-2);\n",
       "}\n",
       "\n",
       "#sk-container-id-1 div.sk-label label.sk-toggleable__label,\n",
       "#sk-container-id-1 div.sk-label label {\n",
       "  /* The background is the default theme color */\n",
       "  color: var(--sklearn-color-text-on-default-background);\n",
       "}\n",
       "\n",
       "/* On hover, darken the color of the background */\n",
       "#sk-container-id-1 div.sk-label:hover label.sk-toggleable__label {\n",
       "  color: var(--sklearn-color-text);\n",
       "  background-color: var(--sklearn-color-unfitted-level-2);\n",
       "}\n",
       "\n",
       "/* Label box, darken color on hover, fitted */\n",
       "#sk-container-id-1 div.sk-label.fitted:hover label.sk-toggleable__label.fitted {\n",
       "  color: var(--sklearn-color-text);\n",
       "  background-color: var(--sklearn-color-fitted-level-2);\n",
       "}\n",
       "\n",
       "/* Estimator label */\n",
       "\n",
       "#sk-container-id-1 div.sk-label label {\n",
       "  font-family: monospace;\n",
       "  font-weight: bold;\n",
       "  display: inline-block;\n",
       "  line-height: 1.2em;\n",
       "}\n",
       "\n",
       "#sk-container-id-1 div.sk-label-container {\n",
       "  text-align: center;\n",
       "}\n",
       "\n",
       "/* Estimator-specific */\n",
       "#sk-container-id-1 div.sk-estimator {\n",
       "  font-family: monospace;\n",
       "  border: 1px dotted var(--sklearn-color-border-box);\n",
       "  border-radius: 0.25em;\n",
       "  box-sizing: border-box;\n",
       "  margin-bottom: 0.5em;\n",
       "  /* unfitted */\n",
       "  background-color: var(--sklearn-color-unfitted-level-0);\n",
       "}\n",
       "\n",
       "#sk-container-id-1 div.sk-estimator.fitted {\n",
       "  /* fitted */\n",
       "  background-color: var(--sklearn-color-fitted-level-0);\n",
       "}\n",
       "\n",
       "/* on hover */\n",
       "#sk-container-id-1 div.sk-estimator:hover {\n",
       "  /* unfitted */\n",
       "  background-color: var(--sklearn-color-unfitted-level-2);\n",
       "}\n",
       "\n",
       "#sk-container-id-1 div.sk-estimator.fitted:hover {\n",
       "  /* fitted */\n",
       "  background-color: var(--sklearn-color-fitted-level-2);\n",
       "}\n",
       "\n",
       "/* Specification for estimator info (e.g. \"i\" and \"?\") */\n",
       "\n",
       "/* Common style for \"i\" and \"?\" */\n",
       "\n",
       ".sk-estimator-doc-link,\n",
       "a:link.sk-estimator-doc-link,\n",
       "a:visited.sk-estimator-doc-link {\n",
       "  float: right;\n",
       "  font-size: smaller;\n",
       "  line-height: 1em;\n",
       "  font-family: monospace;\n",
       "  background-color: var(--sklearn-color-background);\n",
       "  border-radius: 1em;\n",
       "  height: 1em;\n",
       "  width: 1em;\n",
       "  text-decoration: none !important;\n",
       "  margin-left: 1ex;\n",
       "  /* unfitted */\n",
       "  border: var(--sklearn-color-unfitted-level-1) 1pt solid;\n",
       "  color: var(--sklearn-color-unfitted-level-1);\n",
       "}\n",
       "\n",
       ".sk-estimator-doc-link.fitted,\n",
       "a:link.sk-estimator-doc-link.fitted,\n",
       "a:visited.sk-estimator-doc-link.fitted {\n",
       "  /* fitted */\n",
       "  border: var(--sklearn-color-fitted-level-1) 1pt solid;\n",
       "  color: var(--sklearn-color-fitted-level-1);\n",
       "}\n",
       "\n",
       "/* On hover */\n",
       "div.sk-estimator:hover .sk-estimator-doc-link:hover,\n",
       ".sk-estimator-doc-link:hover,\n",
       "div.sk-label-container:hover .sk-estimator-doc-link:hover,\n",
       ".sk-estimator-doc-link:hover {\n",
       "  /* unfitted */\n",
       "  background-color: var(--sklearn-color-unfitted-level-3);\n",
       "  color: var(--sklearn-color-background);\n",
       "  text-decoration: none;\n",
       "}\n",
       "\n",
       "div.sk-estimator.fitted:hover .sk-estimator-doc-link.fitted:hover,\n",
       ".sk-estimator-doc-link.fitted:hover,\n",
       "div.sk-label-container:hover .sk-estimator-doc-link.fitted:hover,\n",
       ".sk-estimator-doc-link.fitted:hover {\n",
       "  /* fitted */\n",
       "  background-color: var(--sklearn-color-fitted-level-3);\n",
       "  color: var(--sklearn-color-background);\n",
       "  text-decoration: none;\n",
       "}\n",
       "\n",
       "/* Span, style for the box shown on hovering the info icon */\n",
       ".sk-estimator-doc-link span {\n",
       "  display: none;\n",
       "  z-index: 9999;\n",
       "  position: relative;\n",
       "  font-weight: normal;\n",
       "  right: .2ex;\n",
       "  padding: .5ex;\n",
       "  margin: .5ex;\n",
       "  width: min-content;\n",
       "  min-width: 20ex;\n",
       "  max-width: 50ex;\n",
       "  color: var(--sklearn-color-text);\n",
       "  box-shadow: 2pt 2pt 4pt #999;\n",
       "  /* unfitted */\n",
       "  background: var(--sklearn-color-unfitted-level-0);\n",
       "  border: .5pt solid var(--sklearn-color-unfitted-level-3);\n",
       "}\n",
       "\n",
       ".sk-estimator-doc-link.fitted span {\n",
       "  /* fitted */\n",
       "  background: var(--sklearn-color-fitted-level-0);\n",
       "  border: var(--sklearn-color-fitted-level-3);\n",
       "}\n",
       "\n",
       ".sk-estimator-doc-link:hover span {\n",
       "  display: block;\n",
       "}\n",
       "\n",
       "/* \"?\"-specific style due to the `<a>` HTML tag */\n",
       "\n",
       "#sk-container-id-1 a.estimator_doc_link {\n",
       "  float: right;\n",
       "  font-size: 1rem;\n",
       "  line-height: 1em;\n",
       "  font-family: monospace;\n",
       "  background-color: var(--sklearn-color-background);\n",
       "  border-radius: 1rem;\n",
       "  height: 1rem;\n",
       "  width: 1rem;\n",
       "  text-decoration: none;\n",
       "  /* unfitted */\n",
       "  color: var(--sklearn-color-unfitted-level-1);\n",
       "  border: var(--sklearn-color-unfitted-level-1) 1pt solid;\n",
       "}\n",
       "\n",
       "#sk-container-id-1 a.estimator_doc_link.fitted {\n",
       "  /* fitted */\n",
       "  border: var(--sklearn-color-fitted-level-1) 1pt solid;\n",
       "  color: var(--sklearn-color-fitted-level-1);\n",
       "}\n",
       "\n",
       "/* On hover */\n",
       "#sk-container-id-1 a.estimator_doc_link:hover {\n",
       "  /* unfitted */\n",
       "  background-color: var(--sklearn-color-unfitted-level-3);\n",
       "  color: var(--sklearn-color-background);\n",
       "  text-decoration: none;\n",
       "}\n",
       "\n",
       "#sk-container-id-1 a.estimator_doc_link.fitted:hover {\n",
       "  /* fitted */\n",
       "  background-color: var(--sklearn-color-fitted-level-3);\n",
       "}\n",
       "</style><div id=\"sk-container-id-1\" class=\"sk-top-container\"><div class=\"sk-text-repr-fallback\"><pre>RandomForestRegressor()</pre><b>In a Jupyter environment, please rerun this cell to show the HTML representation or trust the notebook. <br />On GitHub, the HTML representation is unable to render, please try loading this page with nbviewer.org.</b></div><div class=\"sk-container\" hidden><div class=\"sk-item\"><div class=\"sk-estimator fitted sk-toggleable\"><input class=\"sk-toggleable__control sk-hidden--visually\" id=\"sk-estimator-id-1\" type=\"checkbox\" checked><label for=\"sk-estimator-id-1\" class=\"sk-toggleable__label fitted sk-toggleable__label-arrow fitted\">&nbsp;&nbsp;RandomForestRegressor<a class=\"sk-estimator-doc-link fitted\" rel=\"noreferrer\" target=\"_blank\" href=\"https://scikit-learn.org/1.4/modules/generated/sklearn.ensemble.RandomForestRegressor.html\">?<span>Documentation for RandomForestRegressor</span></a><span class=\"sk-estimator-doc-link fitted\">i<span>Fitted</span></span></label><div class=\"sk-toggleable__content fitted\"><pre>RandomForestRegressor()</pre></div> </div></div></div></div>"
      ],
      "text/plain": [
       "RandomForestRegressor()"
      ]
     },
     "execution_count": 53,
     "metadata": {},
     "output_type": "execute_result"
    }
   ],
   "source": [
    "rfr.fit(X_train, y_train)"
   ]
  },
  {
   "cell_type": "code",
   "execution_count": 54,
   "id": "c4076619-4a54-4349-9536-840b21ac936b",
   "metadata": {},
   "outputs": [
    {
     "data": {
      "text/plain": [
       "0.995363298883665"
      ]
     },
     "execution_count": 54,
     "metadata": {},
     "output_type": "execute_result"
    }
   ],
   "source": [
    "r2_score(y_test, rfr.predict(X_test))"
   ]
  },
  {
   "cell_type": "code",
   "execution_count": 51,
   "id": "cfc8eacc-f77f-4875-8e05-e3ac0b7d76e3",
   "metadata": {},
   "outputs": [],
   "source": [
    "obj = GridSearchCV(rfr, param_grid = params, cv = None)"
   ]
  },
  {
   "cell_type": "code",
   "execution_count": 48,
   "id": "15e45ed1-0802-480a-98c2-afa8862c6a90",
   "metadata": {},
   "outputs": [
    {
     "data": {
      "text/plain": [
       "(209673, 8)"
      ]
     },
     "execution_count": 48,
     "metadata": {},
     "output_type": "execute_result"
    }
   ],
   "source": [
    "df_train.shape"
   ]
  },
  {
   "cell_type": "code",
   "execution_count": null,
   "id": "1404f920-44b7-4e28-8040-ec9fcb2bbfb7",
   "metadata": {},
   "outputs": [],
   "source": []
  }
 ],
 "metadata": {
  "kernelspec": {
   "display_name": "Python 3 (ipykernel)",
   "language": "python",
   "name": "python3"
  },
  "language_info": {
   "codemirror_mode": {
    "name": "ipython",
    "version": 3
   },
   "file_extension": ".py",
   "mimetype": "text/x-python",
   "name": "python",
   "nbconvert_exporter": "python",
   "pygments_lexer": "ipython3",
   "version": "3.12.4"
  }
 },
 "nbformat": 4,
 "nbformat_minor": 5
}
