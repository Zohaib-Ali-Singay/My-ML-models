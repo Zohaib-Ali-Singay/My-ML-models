{
 "cells": [
  {
   "cell_type": "markdown",
   "id": "35c140a8-b57b-4707-81d3-d18d289ba19a",
   "metadata": {},
   "source": [
    "https://www.kaggle.com/datasets/humairmunir/anaemia-prediction-dataset/data?select=expanded_output.csv"
   ]
  },
  {
   "cell_type": "code",
   "execution_count": 1,
   "id": "4b650059-01d2-41db-93ad-2ca3d800fc59",
   "metadata": {},
   "outputs": [],
   "source": [
    "import numpy as np\n",
    "import pandas as pd\n",
    "import matplotlib.pyplot as plt\n",
    "import seaborn as sns\n",
    "from sklearn.linear_model import LogisticRegression, LogisticRegressionCV\n",
    "from sklearn.ensemble import GradientBoostingClassifier, HistGradientBoostingClassifier, RandomForestClassifier, AdaBoostClassifier\n",
    "from sklearn.ensemble import ExtraTreesClassifier, BaggingClassifier, StackingClassifier, VotingClassifier\n",
    "from xgboost import XGBClassifier\n",
    "from lightgbm import LGBMClassifier\n",
    "from catboost import CatBoostClassifier\n",
    "from imblearn.ensemble import EasyEnsembleClassifier, RUSBoostClassifier, BalancedBaggingClassifier, BalancedRandomForestClassifier\n",
    "from sklearn.tree import DecisionTreeClassifier\n",
    "from sklearn.svm import SVC\n",
    "from sklearn.model_selection import train_test_split\n",
    "from sklearn.metrics import classification_report, confusion_matrix"
   ]
  },
  {
   "cell_type": "code",
   "execution_count": 2,
   "id": "8dd487c2-1615-4ead-b84f-2d193777e145",
   "metadata": {},
   "outputs": [],
   "source": [
    "df = pd.read_csv(\"expanded_output.csv\")"
   ]
  },
  {
   "cell_type": "code",
   "execution_count": 3,
   "id": "290387a8-69b2-4eb2-a324-0620f193aaa5",
   "metadata": {},
   "outputs": [
    {
     "data": {
      "text/html": [
       "<div>\n",
       "<style scoped>\n",
       "    .dataframe tbody tr th:only-of-type {\n",
       "        vertical-align: middle;\n",
       "    }\n",
       "\n",
       "    .dataframe tbody tr th {\n",
       "        vertical-align: top;\n",
       "    }\n",
       "\n",
       "    .dataframe thead th {\n",
       "        text-align: right;\n",
       "    }\n",
       "</style>\n",
       "<table border=\"1\" class=\"dataframe\">\n",
       "  <thead>\n",
       "    <tr style=\"text-align: right;\">\n",
       "      <th></th>\n",
       "      <th>Number</th>\n",
       "      <th>Sex</th>\n",
       "      <th>%Red Pixel</th>\n",
       "      <th>%Green pixel</th>\n",
       "      <th>%Blue pixel</th>\n",
       "      <th>Hb</th>\n",
       "      <th>Anaemic</th>\n",
       "    </tr>\n",
       "  </thead>\n",
       "  <tbody>\n",
       "    <tr>\n",
       "      <th>0</th>\n",
       "      <td>1</td>\n",
       "      <td>M</td>\n",
       "      <td>43.264176</td>\n",
       "      <td>30.838924</td>\n",
       "      <td>25.899587</td>\n",
       "      <td>6.297293</td>\n",
       "      <td>Yes</td>\n",
       "    </tr>\n",
       "    <tr>\n",
       "      <th>1</th>\n",
       "      <td>2</td>\n",
       "      <td>F</td>\n",
       "      <td>43.144832</td>\n",
       "      <td>30.171404</td>\n",
       "      <td>26.692997</td>\n",
       "      <td>8.608315</td>\n",
       "      <td>Yes</td>\n",
       "    </tr>\n",
       "    <tr>\n",
       "      <th>2</th>\n",
       "      <td>3</td>\n",
       "      <td>F</td>\n",
       "      <td>46.506491</td>\n",
       "      <td>27.430905</td>\n",
       "      <td>26.051133</td>\n",
       "      <td>9.713010</td>\n",
       "      <td>Yes</td>\n",
       "    </tr>\n",
       "    <tr>\n",
       "      <th>3</th>\n",
       "      <td>4</td>\n",
       "      <td>F</td>\n",
       "      <td>44.963982</td>\n",
       "      <td>30.519205</td>\n",
       "      <td>24.499161</td>\n",
       "      <td>4.809385</td>\n",
       "      <td>Yes</td>\n",
       "    </tr>\n",
       "    <tr>\n",
       "      <th>4</th>\n",
       "      <td>5</td>\n",
       "      <td>M</td>\n",
       "      <td>45.069466</td>\n",
       "      <td>31.089378</td>\n",
       "      <td>23.853518</td>\n",
       "      <td>8.995228</td>\n",
       "      <td>Yes</td>\n",
       "    </tr>\n",
       "  </tbody>\n",
       "</table>\n",
       "</div>"
      ],
      "text/plain": [
       "   Number Sex  %Red Pixel  %Green pixel  %Blue pixel        Hb Anaemic\n",
       "0       1   M   43.264176     30.838924    25.899587  6.297293     Yes\n",
       "1       2   F   43.144832     30.171404    26.692997  8.608315     Yes\n",
       "2       3   F   46.506491     27.430905    26.051133  9.713010     Yes\n",
       "3       4   F   44.963982     30.519205    24.499161  4.809385     Yes\n",
       "4       5  M    45.069466     31.089378    23.853518  8.995228     Yes"
      ]
     },
     "execution_count": 3,
     "metadata": {},
     "output_type": "execute_result"
    }
   ],
   "source": [
    "df.head()"
   ]
  },
  {
   "cell_type": "code",
   "execution_count": 4,
   "id": "ec289511-1114-493c-b480-d58f3e351609",
   "metadata": {},
   "outputs": [],
   "source": [
    "df.drop(\"Number\", axis = 1, inplace = True)"
   ]
  },
  {
   "cell_type": "code",
   "execution_count": 5,
   "id": "ea4a9f81-d867-48e8-a468-c97f730b72e1",
   "metadata": {},
   "outputs": [],
   "source": [
    "df[\"Anaemic\"] = df[\"Anaemic\"].map({\"Yes\" : 1, \"No\" : 0})"
   ]
  },
  {
   "cell_type": "code",
   "execution_count": 6,
   "id": "ceb1eba1-9088-44cc-899d-416cb905569a",
   "metadata": {},
   "outputs": [
    {
     "data": {
      "text/plain": [
       "Sex\n",
       "F     152\n",
       "M     135\n",
       "F     119\n",
       "M      94\n",
       "Name: count, dtype: int64"
      ]
     },
     "execution_count": 6,
     "metadata": {},
     "output_type": "execute_result"
    }
   ],
   "source": [
    "df[\"Sex\"].value_counts()"
   ]
  },
  {
   "cell_type": "code",
   "execution_count": 7,
   "id": "111835dc-bc12-405d-a92a-5fd401cf7bae",
   "metadata": {},
   "outputs": [],
   "source": [
    "from sklearn.preprocessing import OneHotEncoder"
   ]
  },
  {
   "cell_type": "code",
   "execution_count": 8,
   "id": "f103cb77-c9c6-4725-aa14-49ca3a7a1707",
   "metadata": {},
   "outputs": [
    {
     "data": {
      "text/plain": [
       "array([[0., 1., 0.],\n",
       "       [0., 0., 0.],\n",
       "       [0., 0., 0.],\n",
       "       ...,\n",
       "       [1., 0., 0.],\n",
       "       [0., 0., 0.],\n",
       "       [1., 0., 0.]])"
      ]
     },
     "execution_count": 8,
     "metadata": {},
     "output_type": "execute_result"
    }
   ],
   "source": [
    "encoder = OneHotEncoder(sparse_output=False, drop=\"first\")\n",
    "encoded_array = encoder.fit_transform(df[['Sex']])\n",
    "encoded_array"
   ]
  },
  {
   "cell_type": "code",
   "execution_count": 9,
   "id": "bcb9a39f-d36a-4778-8f04-51a3db60a644",
   "metadata": {},
   "outputs": [],
   "source": [
    "encoded_columns = encoder.get_feature_names_out(['Sex'])"
   ]
  },
  {
   "cell_type": "code",
   "execution_count": 10,
   "id": "54f28ff6-6726-4d57-aea1-cd211cdcc418",
   "metadata": {},
   "outputs": [
    {
     "data": {
      "text/plain": [
       "array(['Sex_F ', 'Sex_M', 'Sex_M '], dtype=object)"
      ]
     },
     "execution_count": 10,
     "metadata": {},
     "output_type": "execute_result"
    }
   ],
   "source": [
    "encoded_columns"
   ]
  },
  {
   "cell_type": "code",
   "execution_count": 11,
   "id": "0883ef3b-edc9-451b-8a0c-c04a5ff7e3df",
   "metadata": {},
   "outputs": [],
   "source": [
    "encoded_df = pd.DataFrame(encoded_array, columns=encoded_columns)"
   ]
  },
  {
   "cell_type": "code",
   "execution_count": 12,
   "id": "de0ba57d-5a99-4315-ad8d-2919a54303d3",
   "metadata": {},
   "outputs": [
    {
     "data": {
      "text/html": [
       "<div>\n",
       "<style scoped>\n",
       "    .dataframe tbody tr th:only-of-type {\n",
       "        vertical-align: middle;\n",
       "    }\n",
       "\n",
       "    .dataframe tbody tr th {\n",
       "        vertical-align: top;\n",
       "    }\n",
       "\n",
       "    .dataframe thead th {\n",
       "        text-align: right;\n",
       "    }\n",
       "</style>\n",
       "<table border=\"1\" class=\"dataframe\">\n",
       "  <thead>\n",
       "    <tr style=\"text-align: right;\">\n",
       "      <th></th>\n",
       "      <th>Sex</th>\n",
       "      <th>%Red Pixel</th>\n",
       "      <th>%Green pixel</th>\n",
       "      <th>%Blue pixel</th>\n",
       "      <th>Hb</th>\n",
       "      <th>Anaemic</th>\n",
       "      <th>Sex_F</th>\n",
       "      <th>Sex_M</th>\n",
       "      <th>Sex_M</th>\n",
       "    </tr>\n",
       "  </thead>\n",
       "  <tbody>\n",
       "    <tr>\n",
       "      <th>0</th>\n",
       "      <td>M</td>\n",
       "      <td>43.264176</td>\n",
       "      <td>30.838924</td>\n",
       "      <td>25.899587</td>\n",
       "      <td>6.297293</td>\n",
       "      <td>1</td>\n",
       "      <td>0.0</td>\n",
       "      <td>1.0</td>\n",
       "      <td>0.0</td>\n",
       "    </tr>\n",
       "    <tr>\n",
       "      <th>1</th>\n",
       "      <td>F</td>\n",
       "      <td>43.144832</td>\n",
       "      <td>30.171404</td>\n",
       "      <td>26.692997</td>\n",
       "      <td>8.608315</td>\n",
       "      <td>1</td>\n",
       "      <td>0.0</td>\n",
       "      <td>0.0</td>\n",
       "      <td>0.0</td>\n",
       "    </tr>\n",
       "    <tr>\n",
       "      <th>2</th>\n",
       "      <td>F</td>\n",
       "      <td>46.506491</td>\n",
       "      <td>27.430905</td>\n",
       "      <td>26.051133</td>\n",
       "      <td>9.713010</td>\n",
       "      <td>1</td>\n",
       "      <td>0.0</td>\n",
       "      <td>0.0</td>\n",
       "      <td>0.0</td>\n",
       "    </tr>\n",
       "    <tr>\n",
       "      <th>3</th>\n",
       "      <td>F</td>\n",
       "      <td>44.963982</td>\n",
       "      <td>30.519205</td>\n",
       "      <td>24.499161</td>\n",
       "      <td>4.809385</td>\n",
       "      <td>1</td>\n",
       "      <td>0.0</td>\n",
       "      <td>0.0</td>\n",
       "      <td>0.0</td>\n",
       "    </tr>\n",
       "    <tr>\n",
       "      <th>4</th>\n",
       "      <td>M</td>\n",
       "      <td>45.069466</td>\n",
       "      <td>31.089378</td>\n",
       "      <td>23.853518</td>\n",
       "      <td>8.995228</td>\n",
       "      <td>1</td>\n",
       "      <td>0.0</td>\n",
       "      <td>0.0</td>\n",
       "      <td>1.0</td>\n",
       "    </tr>\n",
       "    <tr>\n",
       "      <th>...</th>\n",
       "      <td>...</td>\n",
       "      <td>...</td>\n",
       "      <td>...</td>\n",
       "      <td>...</td>\n",
       "      <td>...</td>\n",
       "      <td>...</td>\n",
       "      <td>...</td>\n",
       "      <td>...</td>\n",
       "      <td>...</td>\n",
       "    </tr>\n",
       "    <tr>\n",
       "      <th>495</th>\n",
       "      <td>F</td>\n",
       "      <td>45.704839</td>\n",
       "      <td>27.557135</td>\n",
       "      <td>26.712476</td>\n",
       "      <td>13.615373</td>\n",
       "      <td>0</td>\n",
       "      <td>0.0</td>\n",
       "      <td>0.0</td>\n",
       "      <td>0.0</td>\n",
       "    </tr>\n",
       "    <tr>\n",
       "      <th>496</th>\n",
       "      <td>F</td>\n",
       "      <td>44.906272</td>\n",
       "      <td>30.375286</td>\n",
       "      <td>24.713653</td>\n",
       "      <td>11.594262</td>\n",
       "      <td>0</td>\n",
       "      <td>0.0</td>\n",
       "      <td>0.0</td>\n",
       "      <td>0.0</td>\n",
       "    </tr>\n",
       "    <tr>\n",
       "      <th>497</th>\n",
       "      <td>F</td>\n",
       "      <td>43.430623</td>\n",
       "      <td>29.777833</td>\n",
       "      <td>26.782023</td>\n",
       "      <td>12.407689</td>\n",
       "      <td>0</td>\n",
       "      <td>1.0</td>\n",
       "      <td>0.0</td>\n",
       "      <td>0.0</td>\n",
       "    </tr>\n",
       "    <tr>\n",
       "      <th>498</th>\n",
       "      <td>F</td>\n",
       "      <td>43.304680</td>\n",
       "      <td>29.805033</td>\n",
       "      <td>26.875941</td>\n",
       "      <td>12.102483</td>\n",
       "      <td>0</td>\n",
       "      <td>0.0</td>\n",
       "      <td>0.0</td>\n",
       "      <td>0.0</td>\n",
       "    </tr>\n",
       "    <tr>\n",
       "      <th>499</th>\n",
       "      <td>F</td>\n",
       "      <td>47.648932</td>\n",
       "      <td>26.802500</td>\n",
       "      <td>25.555738</td>\n",
       "      <td>15.083693</td>\n",
       "      <td>0</td>\n",
       "      <td>1.0</td>\n",
       "      <td>0.0</td>\n",
       "      <td>0.0</td>\n",
       "    </tr>\n",
       "  </tbody>\n",
       "</table>\n",
       "<p>500 rows × 9 columns</p>\n",
       "</div>"
      ],
      "text/plain": [
       "    Sex  %Red Pixel  %Green pixel  %Blue pixel         Hb  Anaemic  Sex_F   \\\n",
       "0     M   43.264176     30.838924    25.899587   6.297293        1     0.0   \n",
       "1     F   43.144832     30.171404    26.692997   8.608315        1     0.0   \n",
       "2     F   46.506491     27.430905    26.051133   9.713010        1     0.0   \n",
       "3     F   44.963982     30.519205    24.499161   4.809385        1     0.0   \n",
       "4    M    45.069466     31.089378    23.853518   8.995228        1     0.0   \n",
       "..   ..         ...           ...          ...        ...      ...     ...   \n",
       "495   F   45.704839     27.557135    26.712476  13.615373        0     0.0   \n",
       "496   F   44.906272     30.375286    24.713653  11.594262        0     0.0   \n",
       "497  F    43.430623     29.777833    26.782023  12.407689        0     1.0   \n",
       "498   F   43.304680     29.805033    26.875941  12.102483        0     0.0   \n",
       "499  F    47.648932     26.802500    25.555738  15.083693        0     1.0   \n",
       "\n",
       "     Sex_M  Sex_M   \n",
       "0      1.0     0.0  \n",
       "1      0.0     0.0  \n",
       "2      0.0     0.0  \n",
       "3      0.0     0.0  \n",
       "4      0.0     1.0  \n",
       "..     ...     ...  \n",
       "495    0.0     0.0  \n",
       "496    0.0     0.0  \n",
       "497    0.0     0.0  \n",
       "498    0.0     0.0  \n",
       "499    0.0     0.0  \n",
       "\n",
       "[500 rows x 9 columns]"
      ]
     },
     "execution_count": 12,
     "metadata": {},
     "output_type": "execute_result"
    }
   ],
   "source": [
    "final_df = pd.concat([df, encoded_df], axis = 1)\n",
    "final_df"
   ]
  },
  {
   "cell_type": "code",
   "execution_count": 13,
   "id": "5d205736-d128-464c-92eb-c78a9d2790c7",
   "metadata": {},
   "outputs": [],
   "source": [
    "final_df.drop(\"Sex\", axis = 1, inplace = True)"
   ]
  },
  {
   "cell_type": "code",
   "execution_count": 14,
   "id": "590be4e1-71f6-4830-83c8-167e50b905b7",
   "metadata": {},
   "outputs": [],
   "source": [
    "df = final_df.copy()"
   ]
  },
  {
   "cell_type": "code",
   "execution_count": 15,
   "id": "205fc849-ae90-43fd-af8f-e3f6ce650cee",
   "metadata": {},
   "outputs": [
    {
     "data": {
      "text/html": [
       "<div>\n",
       "<style scoped>\n",
       "    .dataframe tbody tr th:only-of-type {\n",
       "        vertical-align: middle;\n",
       "    }\n",
       "\n",
       "    .dataframe tbody tr th {\n",
       "        vertical-align: top;\n",
       "    }\n",
       "\n",
       "    .dataframe thead th {\n",
       "        text-align: right;\n",
       "    }\n",
       "</style>\n",
       "<table border=\"1\" class=\"dataframe\">\n",
       "  <thead>\n",
       "    <tr style=\"text-align: right;\">\n",
       "      <th></th>\n",
       "      <th>%Red Pixel</th>\n",
       "      <th>%Green pixel</th>\n",
       "      <th>%Blue pixel</th>\n",
       "      <th>Hb</th>\n",
       "      <th>Anaemic</th>\n",
       "      <th>Sex_F</th>\n",
       "      <th>Sex_M</th>\n",
       "      <th>Sex_M</th>\n",
       "    </tr>\n",
       "  </thead>\n",
       "  <tbody>\n",
       "    <tr>\n",
       "      <th>0</th>\n",
       "      <td>43.264176</td>\n",
       "      <td>30.838924</td>\n",
       "      <td>25.899587</td>\n",
       "      <td>6.297293</td>\n",
       "      <td>1</td>\n",
       "      <td>0.0</td>\n",
       "      <td>1.0</td>\n",
       "      <td>0.0</td>\n",
       "    </tr>\n",
       "    <tr>\n",
       "      <th>1</th>\n",
       "      <td>43.144832</td>\n",
       "      <td>30.171404</td>\n",
       "      <td>26.692997</td>\n",
       "      <td>8.608315</td>\n",
       "      <td>1</td>\n",
       "      <td>0.0</td>\n",
       "      <td>0.0</td>\n",
       "      <td>0.0</td>\n",
       "    </tr>\n",
       "    <tr>\n",
       "      <th>2</th>\n",
       "      <td>46.506491</td>\n",
       "      <td>27.430905</td>\n",
       "      <td>26.051133</td>\n",
       "      <td>9.713010</td>\n",
       "      <td>1</td>\n",
       "      <td>0.0</td>\n",
       "      <td>0.0</td>\n",
       "      <td>0.0</td>\n",
       "    </tr>\n",
       "    <tr>\n",
       "      <th>3</th>\n",
       "      <td>44.963982</td>\n",
       "      <td>30.519205</td>\n",
       "      <td>24.499161</td>\n",
       "      <td>4.809385</td>\n",
       "      <td>1</td>\n",
       "      <td>0.0</td>\n",
       "      <td>0.0</td>\n",
       "      <td>0.0</td>\n",
       "    </tr>\n",
       "    <tr>\n",
       "      <th>4</th>\n",
       "      <td>45.069466</td>\n",
       "      <td>31.089378</td>\n",
       "      <td>23.853518</td>\n",
       "      <td>8.995228</td>\n",
       "      <td>1</td>\n",
       "      <td>0.0</td>\n",
       "      <td>0.0</td>\n",
       "      <td>1.0</td>\n",
       "    </tr>\n",
       "    <tr>\n",
       "      <th>...</th>\n",
       "      <td>...</td>\n",
       "      <td>...</td>\n",
       "      <td>...</td>\n",
       "      <td>...</td>\n",
       "      <td>...</td>\n",
       "      <td>...</td>\n",
       "      <td>...</td>\n",
       "      <td>...</td>\n",
       "    </tr>\n",
       "    <tr>\n",
       "      <th>495</th>\n",
       "      <td>45.704839</td>\n",
       "      <td>27.557135</td>\n",
       "      <td>26.712476</td>\n",
       "      <td>13.615373</td>\n",
       "      <td>0</td>\n",
       "      <td>0.0</td>\n",
       "      <td>0.0</td>\n",
       "      <td>0.0</td>\n",
       "    </tr>\n",
       "    <tr>\n",
       "      <th>496</th>\n",
       "      <td>44.906272</td>\n",
       "      <td>30.375286</td>\n",
       "      <td>24.713653</td>\n",
       "      <td>11.594262</td>\n",
       "      <td>0</td>\n",
       "      <td>0.0</td>\n",
       "      <td>0.0</td>\n",
       "      <td>0.0</td>\n",
       "    </tr>\n",
       "    <tr>\n",
       "      <th>497</th>\n",
       "      <td>43.430623</td>\n",
       "      <td>29.777833</td>\n",
       "      <td>26.782023</td>\n",
       "      <td>12.407689</td>\n",
       "      <td>0</td>\n",
       "      <td>1.0</td>\n",
       "      <td>0.0</td>\n",
       "      <td>0.0</td>\n",
       "    </tr>\n",
       "    <tr>\n",
       "      <th>498</th>\n",
       "      <td>43.304680</td>\n",
       "      <td>29.805033</td>\n",
       "      <td>26.875941</td>\n",
       "      <td>12.102483</td>\n",
       "      <td>0</td>\n",
       "      <td>0.0</td>\n",
       "      <td>0.0</td>\n",
       "      <td>0.0</td>\n",
       "    </tr>\n",
       "    <tr>\n",
       "      <th>499</th>\n",
       "      <td>47.648932</td>\n",
       "      <td>26.802500</td>\n",
       "      <td>25.555738</td>\n",
       "      <td>15.083693</td>\n",
       "      <td>0</td>\n",
       "      <td>1.0</td>\n",
       "      <td>0.0</td>\n",
       "      <td>0.0</td>\n",
       "    </tr>\n",
       "  </tbody>\n",
       "</table>\n",
       "<p>500 rows × 8 columns</p>\n",
       "</div>"
      ],
      "text/plain": [
       "     %Red Pixel  %Green pixel  %Blue pixel         Hb  Anaemic  Sex_F   Sex_M  \\\n",
       "0     43.264176     30.838924    25.899587   6.297293        1     0.0    1.0   \n",
       "1     43.144832     30.171404    26.692997   8.608315        1     0.0    0.0   \n",
       "2     46.506491     27.430905    26.051133   9.713010        1     0.0    0.0   \n",
       "3     44.963982     30.519205    24.499161   4.809385        1     0.0    0.0   \n",
       "4     45.069466     31.089378    23.853518   8.995228        1     0.0    0.0   \n",
       "..          ...           ...          ...        ...      ...     ...    ...   \n",
       "495   45.704839     27.557135    26.712476  13.615373        0     0.0    0.0   \n",
       "496   44.906272     30.375286    24.713653  11.594262        0     0.0    0.0   \n",
       "497   43.430623     29.777833    26.782023  12.407689        0     1.0    0.0   \n",
       "498   43.304680     29.805033    26.875941  12.102483        0     0.0    0.0   \n",
       "499   47.648932     26.802500    25.555738  15.083693        0     1.0    0.0   \n",
       "\n",
       "     Sex_M   \n",
       "0       0.0  \n",
       "1       0.0  \n",
       "2       0.0  \n",
       "3       0.0  \n",
       "4       1.0  \n",
       "..      ...  \n",
       "495     0.0  \n",
       "496     0.0  \n",
       "497     0.0  \n",
       "498     0.0  \n",
       "499     0.0  \n",
       "\n",
       "[500 rows x 8 columns]"
      ]
     },
     "execution_count": 15,
     "metadata": {},
     "output_type": "execute_result"
    }
   ],
   "source": [
    "df"
   ]
  },
  {
   "cell_type": "code",
   "execution_count": 16,
   "id": "9fad5390-ff9c-4a49-8a81-0109ec330586",
   "metadata": {},
   "outputs": [
    {
     "data": {
      "text/plain": [
       "Anaemic\n",
       "1    250\n",
       "0    250\n",
       "Name: count, dtype: int64"
      ]
     },
     "execution_count": 16,
     "metadata": {},
     "output_type": "execute_result"
    }
   ],
   "source": [
    "df[\"Anaemic\"].value_counts()"
   ]
  },
  {
   "cell_type": "code",
   "execution_count": 17,
   "id": "f77e817b-562e-4ca9-8dc0-0bc7c460be73",
   "metadata": {},
   "outputs": [],
   "source": [
    "X = df.drop(\"Anaemic\", axis = 1)\n",
    "y = df[\"Anaemic\"]\n",
    "\n",
    "X_train, X_test, y_train, y_test = train_test_split(X, y, test_size = 0.2)"
   ]
  },
  {
   "cell_type": "code",
   "execution_count": 18,
   "id": "17588c26-c65f-4b9a-af35-54b9aac6f945",
   "metadata": {},
   "outputs": [
    {
     "data": {
      "text/plain": [
       "<Axes: >"
      ]
     },
     "execution_count": 18,
     "metadata": {},
     "output_type": "execute_result"
    },
    {
     "data": {
      "image/png": "[encoded data removed]",
      "text/plain": [
       "<Figure size 640x480 with 2 Axes>"
      ]
     },
     "metadata": {},
     "output_type": "display_data"
    }
   ],
   "source": [
    "rfr = RandomForestClassifier()\n",
    "rfr.fit(X_train, y_train)\n",
    "y_preds = rfr.predict(X_train)\n",
    "sns.heatmap(confusion_matrix(y_train, y_preds), annot = True, fmt = \".2f\")"
   ]
  },
  {
   "cell_type": "code",
   "execution_count": 19,
   "id": "8f9da9b9-97e5-46fb-88fc-90efb19acf75",
   "metadata": {},
   "outputs": [
    {
     "name": "stderr",
     "output_type": "stream",
     "text": [
      "E:\\Anaconda\\Lib\\site-packages\\sklearn\\ensemble\\_weight_boosting.py:519: FutureWarning: The SAMME.R algorithm (the default) is deprecated and will be removed in 1.6. Use the SAMME algorithm to circumvent this warning.\n",
      "  warnings.warn(\n"
     ]
    },
    {
     "data": {
      "text/plain": [
       "<Axes: >"
      ]
     },
     "execution_count": 19,
     "metadata": {},
     "output_type": "execute_result"
    },
    {
     "data": {
      "image/png": "[encoded data removed]",
      "text/plain": [
       "<Figure size 640x480 with 2 Axes>"
      ]
     },
     "metadata": {},
     "output_type": "display_data"
    }
   ],
   "source": [
    "abc = AdaBoostClassifier(n_estimators = 200)\n",
    "abc.fit(X_train, y_train)\n",
    "y_preds = abc.predict(X_test)\n",
    "sns.heatmap(confusion_matrix(y_test, y_preds), annot = True, fmt = \".2f\")"
   ]
  },
  {
   "cell_type": "code",
   "execution_count": null,
   "id": "8387f8bb-7e10-4c52-91c3-a5c4a31861c3",
   "metadata": {},
   "outputs": [],
   "source": []
  }
 ],
 "metadata": {
  "kernelspec": {
   "display_name": "Python 3 (ipykernel)",
   "language": "python",
   "name": "python3"
  },
  "language_info": {
   "codemirror_mode": {
    "name": "ipython",
    "version": 3
   },
   "file_extension": ".py",
   "mimetype": "text/x-python",
   "name": "python",
   "nbconvert_exporter": "python",
   "pygments_lexer": "ipython3",
   "version": "3.9.19"
  }
 },
 "nbformat": 4,
 "nbformat_minor": 5
}
